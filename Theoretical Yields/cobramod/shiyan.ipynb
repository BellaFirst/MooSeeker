{
 "cells": [
  {
   "cell_type": "code",
   "execution_count": 1,
   "id": "6fc2336e",
   "metadata": {},
   "outputs": [
    {
     "name": "stdout",
     "output_type": "stream",
     "text": [
      "Scaling...\n",
      " A: min|aij| =  1.000e+00  max|aij| =  1.000e+00  ratio =  1.000e+00\n",
      "Problem data seem to be well scaled\n",
      "CobraMod version: 1.1.0\n",
      "COBRApy version: 0.24.0\n"
     ]
    }
   ],
   "source": [
    "from IPython.display import display, display_html\n",
    "from cobramod import __version__\n",
    "from cobra import __version__ as cobra_version\n",
    "print(f'CobraMod version: {__version__}')\n",
    "print(f'COBRApy version: {cobra_version}')\n",
    "# From Escher:\n",
    "# This option turns off the warning message if you leave or refresh this page\n",
    "import escher\n",
    "escher.rc['never_ask_before_quit'] = True"
   ]
  },
  {
   "cell_type": "code",
   "execution_count": 2,
   "id": "c6be4619",
   "metadata": {},
   "outputs": [
    {
     "data": {
      "text/html": [
       "\n",
       "        <table>\n",
       "            <tr>\n",
       "                <td><strong>Name</strong></td>\n",
       "                <td>iJO1366</td>\n",
       "            </tr><tr>\n",
       "                <td><strong>Memory address</strong></td>\n",
       "                <td>0x07fab44752d10</td>\n",
       "            </tr><tr>\n",
       "                <td><strong>Number of metabolites</strong></td>\n",
       "                <td>1805</td>\n",
       "            </tr><tr>\n",
       "                <td><strong>Number of reactions</strong></td>\n",
       "                <td>2583</td>\n",
       "            </tr><tr>\n",
       "                <td><strong>Number of groups</strong></td>\n",
       "                <td>0</td>\n",
       "            </tr><tr>\n",
       "                <td><strong>Objective expression</strong></td>\n",
       "                <td>1.0*BIOMASS_Ec_iJO1366_core_53p95M - 1.0*BIOMASS_Ec_iJO1366_core_53p95M_reverse_5c8b1</td>\n",
       "            </tr><tr>\n",
       "                <td><strong>Compartments</strong></td>\n",
       "                <td>cytosol, extracellular space, periplasm</td>\n",
       "            </tr>\n",
       "          </table>"
      ],
      "text/plain": [
       "<Model iJO1366 at 0x7fab44752d10>"
      ]
     },
     "execution_count": 2,
     "metadata": {},
     "output_type": "execute_result"
    }
   ],
   "source": [
    "from pathlib import Path\n",
    "\n",
    "from cobramod import add_pathway, add_reactions\n",
    "from cobra.io import write_sbml_model, read_sbml_model\n",
    "\n",
    "# Defining system path for data\n",
    "dir_data = Path.cwd().resolve().joinpath(\"../data\")\n",
    "\n",
    "# Loading model of iJO1366\n",
    "original = read_sbml_model(\"../data/iJO1366.xml\")\n",
    "model = original.copy()\n",
    "model"
   ]
  },
  {
   "cell_type": "code",
   "execution_count": 3,
   "id": "d8e3dcc8",
   "metadata": {},
   "outputs": [
    {
     "data": {
      "text/plain": [
       "0.9823718127269792"
      ]
     },
     "execution_count": 3,
     "metadata": {},
     "output_type": "execute_result"
    }
   ],
   "source": [
    "wt_growth = model.optimize() \n",
    "wt_growth.objective_value"
   ]
  },
  {
   "cell_type": "code",
   "execution_count": 4,
   "id": "4749a5a1",
   "metadata": {},
   "outputs": [
    {
     "data": {
      "text/plain": [
       "0.7858974501815834"
      ]
     },
     "execution_count": 4,
     "metadata": {},
     "output_type": "execute_result"
    }
   ],
   "source": [
    "min_growth=0.8*wt_growth.objective_value\n",
    "min_growth"
   ]
  },
  {
   "cell_type": "markdown",
   "id": "268de600",
   "metadata": {},
   "source": [
    "将每条KEGG反应逐个添加，用于试验路径添加错误时是哪个反应出了问题"
   ]
  },
  {
   "cell_type": "code",
   "execution_count": null,
   "id": "7186a174",
   "metadata": {},
   "outputs": [
    {
     "name": "stdout",
     "output_type": "stream",
     "text": [
      "Number of reactions prior addition: 2583\n"
     ]
    }
   ],
   "source": [
    "## 试验部分，不运行\n",
    "file = dir_data.joinpath(\"reactions.txt\")\n",
    "print(f'Number of reactions prior addition: {len(model.reactions)}')\n",
    "\n",
    "add_reactions(\n",
    "    model=model,\n",
    "    obj=file,\n",
    "    directory=dir_data,\n",
    "    database=\"KEGG\",\n",
    "    genome=\"ecc\"\n",
    ")\n",
    "\n",
    "print(f'Number of reactions after addition: {len(model.reactions)}')"
   ]
  },
  {
   "cell_type": "code",
   "execution_count": 5,
   "id": "5dad6865",
   "metadata": {},
   "outputs": [],
   "source": [
    "reactions = [\n",
    "    \"R12188, c\",\n",
    "    \"R12514, c\",\n",
    "    \"R04951_c, Cysteinylglycine | 1 C05729_c + 1 C00001_c <-> 1 C05726_c + 1 C00037_c\",\n",
    "    \"R04951_c, Cysteinylglycine | 1 C05729_c + 1 C00001_c <-> 1 C05726_c + 1 C00037_c\",\n",
    "    \"R10553, c\",\n",
    "    \"R10617, c\",\n",
    "    \"R10617, c\",\n",
    "    \"R10617, c\",\n",
    "    \"R10617, c\",\n",
    "    \"R09591, c\",\n",
    "    \"R09622, c\",\n",
    "    \"R10301, c\",\n",
    "    \"R12539_c, FMN | 1 C22238_c + 1 C00004_c <-> 1 C00061_c + 1 C00001_c + 1 C00003_c + 1 C00080_c\",\n",
    "    \"R11156, c\",\n",
    "    \"R11157, c\",\n",
    "    \"R11156, c\",\n",
    "    \"R11157, c\",\n",
    "    \"R04789_c, Cholestene | 1 C05416_c + 1 C00007_c + 1 C00005_c + 1 C00080_c <-> 1 C05417_c + 1 C00006_c + 1 C00001_c\",\n",
    "    \"R01628, c\",\n",
    "    \"R02193, c\",\n",
    "    \"R00931, c\"\n",
    "]"
   ]
  },
  {
   "cell_type": "code",
   "execution_count": 6,
   "id": "53bd6b1d",
   "metadata": {
    "scrolled": false
   },
   "outputs": [
    {
     "name": "stdout",
     "output_type": "stream",
     "text": [
      "Number of reaction prior addition: 2583\n"
     ]
    },
    {
     "name": "stderr",
     "output_type": "stream",
     "text": [
      "/home/jiax/anaconda3/envs/bda/lib/python3.7/site-packages/cobramod/parsing/kegg.py:207: AbbreviationWarning: Reaction \"R10553\" does not have a \"ecc\" abbreviation as a specie. No genes will be added.\n",
      "  warn(message=msg, category=AbbreviationWarning)\n",
      "/home/jiax/anaconda3/envs/bda/lib/python3.7/site-packages/cobramod/parsing/kegg.py:207: AbbreviationWarning: Reaction \"R10301\" does not have a \"ecc\" abbreviation as a specie. No genes will be added.\n",
      "  warn(message=msg, category=AbbreviationWarning)\n",
      "/home/jiax/anaconda3/envs/bda/lib/python3.7/site-packages/cobramod/utils.py:52: UserWarning: Reaction \"R12539_c\" unbalanced. Following atoms are affected. Please verify:\n",
      "{'H': 2.0}\n",
      "  warn(message=msg, category=UserWarning)\n",
      "/home/jiax/anaconda3/envs/bda/lib/python3.7/site-packages/cobramod/parsing/kegg.py:207: AbbreviationWarning: Reaction \"R01628\" does not have a \"ecc\" abbreviation as a specie. No genes will be added.\n",
      "  warn(message=msg, category=AbbreviationWarning)\n",
      "/home/jiax/anaconda3/envs/bda/lib/python3.7/site-packages/cobramod/parsing/kegg.py:207: AbbreviationWarning: Reaction \"R02193\" does not have a \"ecc\" abbreviation as a specie. No genes will be added.\n",
      "  warn(message=msg, category=AbbreviationWarning)\n"
     ]
    },
    {
     "name": "stdout",
     "output_type": "stream",
     "text": [
      "Number of       new   | removed entities in\n",
      "*=====================|===================*\n",
      "Reactions       15    |    0              \n",
      "Metabolites     41    |    0              \n",
      "Exchange         0    |    0              \n",
      "Demand           0    |    0              \n",
      "Sinks           41    |    0              \n",
      "Genes            5    |    0              \n",
      "Groups           1    |    0              \n",
      "\n",
      "Number of reactions after addition: 2639\n"
     ]
    },
    {
     "data": {
      "text/html": [
       "\n",
       "<table> <tbody> <tr> <td><strong>Pathway identifier</strong></td>\n",
       "<td>Propanoyl-CoA-PWY</td> </tr> <tr> <td><strong>Name</strong></td>\n",
       "<td></td> </tr> <tr> <td><strong>Memory address</strong></td>\n",
       "<td>0x0140372214266384</td> </tr> <tr> <td><strong>Reactions involved</strong></td>\n",
       "<td> <p>R12188_c, R12514_c, R04951_c, R10553_c, R10617_c, R09591_c, R09622_c, R10301_c, R12539_c, R11156_c, R11157_c, R04789_c, R01628_c, R02193_c, R00931_c</p> </td> </tr> <tr>\n",
       "<td><strong>Genes involved<br /></strong></td> <td> <p>c3742, c3407, c2014, c1175, c0452</p> </td> </tr> <tr>\n",
       "<td><strong>Visualization attributes</strong></td> <td> <ul> <li>vertical =\n",
       "False</li> <li>color_negative = None</li>\n",
       "<li>color_positive = None</li> <li>color_quantile =\n",
       "False</li> </ul> </td> </tr> </tbody> </table> <p>&nbsp;</p>\n"
      ],
      "text/plain": [
       "<Pathway Propanoyl-CoA-PWY at 0x7faaf3f7ba10>"
      ]
     },
     "metadata": {},
     "output_type": "display_data"
    }
   ],
   "source": [
    "print(f'Number of reaction prior addition: {len(model.reactions)}')\n",
    "add_pathway(\n",
    "    model=model,\n",
    "    pathway=reactions,\n",
    "    directory=dir_data,\n",
    "    database=\"KEGG\",\n",
    "    compartment=\"c\",\n",
    "    genome=\"ecc\",\n",
    "    group=\"Propanoyl-CoA-PWY\",\n",
    "    filename=\"Propanoyl-CoA-PWY.txt\",\n",
    "    model_id=\"iJO1366\"\n",
    ")\n",
    "print(f'Number of reactions after addition: {len(model.reactions)}')\n",
    "\n",
    "from cobramod import model_convert\n",
    "\n",
    "# Before\n",
    "model.groups.get_by_id(\"Propanoyl-CoA-PWY\")\n",
    "\n",
    "model_convert(model)\n",
    "\n",
    "# After transformation\n",
    "display(model.groups.get_by_id(\"Propanoyl-CoA-PWY\"))"
   ]
  },
  {
   "cell_type": "code",
   "execution_count": 7,
   "id": "b65659d3",
   "metadata": {
    "scrolled": true
   },
   "outputs": [
    {
     "name": "stdout",
     "output_type": "stream",
     "text": [
      "Summary:\r\n",
      "Model identifier: iJO1366\r\n",
      "Model name:\r\n",
      "\r\n",
      "Reactions:\r\n",
      "['DM_4crsol_c', 'DM_5drib_c', 'DM_aacald_c', 'DM_amob_c', 'DM_mththf_c', 'DM_oxam_c', 'BIOMASS_Ec_iJO1366_WT_53p95M', 'BIOMASS_Ec_iJO1366_core_53p95M', '12DGR120tipp', '12DGR140tipp', '12DGR141tipp', '12DGR160tipp', '12DGR161tipp', '12DGR180tipp', '12DGR181tipp', '12PPDRtex', '12PPDRtpp', '12PPDStex', '12PPDStpp', '14GLUCANabcpp', '14GLUCANtexi', '23CAMPtex', '23CCMPtex', '23CGMPtex', '23CUMPtex', '23DAPPAt2pp', '23DAPPAtex', '23PDE2pp', '23PDE4pp', '23PDE7pp', '23PDE9pp', '26DAHtex', '2AGPA120tipp', '2AGPA140tipp', '2AGPA141tipp', '2AGPA160tipp', '2AGPA161tipp', '2AGPA180tipp', '2AGPA181tipp', '2AGPE120tipp', '2AGPE140tipp', '2AGPE141tipp', '2AGPE160tipp', '2AGPE161tipp', '2AGPE180tipp', '2AGPE181tipp', '2AGPEAT120', '2AGPEAT140', '2AGPEAT141', '2AGPEAT160', '2AGPEAT161', '2AGPEAT180', '2AGPEAT181', '2AGPG120tipp', '2AGPG140tipp', '2AGPG141tipp', '2AGPG160tipp', '2AGPG161tipp', '2AGPG180tipp', '2AGPG181tipp', '2AGPGAT120', '2AGPGAT140', '2AGPGAT141', '2AGPGAT160', '2AGPGAT161', '2AGPGAT180', '2AGPGAT181', '2DGULRGx', '2DGULRGy', '2DGULRx', '2DGULRy', '2MAHMP', '34dhpactex', '3AMACHYD', '3AMPtex', '3CMPtex', '3GMPtex', '3HAD100', '3HAD120', '5DOAN', '5MTRtex', '5MTRtpp', '3HAD121', '3HAD140', 'A5PISO', 'AACPS1', 'AACPS2', '3HAD141', 'AACPS3', 'AACPS4', 'AACPS5', '3HAD160', 'AACPS6', 'AACPS7', '3HAD161', 'AACPS8', 'AACPS9', '3HAD180', '3HAD181', 'AACTOOR', 'AADDGT', 'AAMYL', 'AAMYLpp', 'AB6PGH', 'ABTA', 'ABUTD', '3HAD40', '3HAD60', '3HAD80', '3HCINNMH', '3HPPPNH', 'ABUTt2pp', 'ABUTtex', '3HPPtex', '3HPPtpp', 'ACACCT', 'ACACT1r', '3KGK', 'ACACT2r', 'ACACT3r', 'ACACT4r', '3NTD2pp', '3NTD4pp', 'ACACT5r', 'ACACT6r', '3NTD7pp', '3NTD9pp', '3OAR100', 'ACACT7r', 'ACACT8r', 'ACACt2pp', 'ACACtex', '3OAR120', '3OAR121', '3OAR140', 'ACALD', '3OAR141', '3OAR160', 'ACALDtex', '3OAR161', 'ACALDtpp', '3OAR180', 'ACANTHAT', '3OAR181', 'ACBIPGT', 'ACCOAC', '3OAR40', '3OAR60', 'ACCOAL', 'ACGAL1PPpp', '3OAR80', 'ACGAL1Ptex', 'ACGALtex', 'ACGAM1PPpp', '3OAS100', 'ACGAM1Ptex', 'ACGAMK', 'ACGAMT', '3OAS120', '3OAS121', '3OAS140', 'ACGAptspp', 'ACGAtex', 'ACGK', 'ACGS', '3OAS141', '3OAS160', '3OAS161', 'ACHBS', '3OAS180', 'ACKr', 'ACLS', 'ACM6PH', 'ACMAMUT', '3OAS181', '3OAS60', 'ACMANAptspp', 'ACMANAtex', 'ACMUMptspp', '3OAS80', '3OXCOAT', 'ACMUMtex', 'ACNAMt2pp', '3PEPTabcpp', '3PEPTtex', '3UMPtex', '42A12BOOXpp', 'ACNAMtex', 'ACNML', 'ACOAD1f', '4HOXPACDtex', '4HTHRS', 'ACOAD2f', 'ACOAD3f', 'ACOAD4f', '4PCP', '4PCPpp', 'ACOAD5f', '4PEPTabcpp', '4PEPTtex', '5DGLCNR', 'ACOAD6f', 'ACOAD7f', 'ACOAD8f', 'ACOATA', '5DGLCNt2rpp', '5DGLCNtex', 'ACODA', 'ACOLIPAabctex', 'ACONIs', 'ACONMT', 'ACONTa', 'ACONTb', 'ACOTA', 'ACPPAT120', 'AGM4PCPpp', 'AGM4PH', 'AGM4Pt2pp', 'AGMH', 'ACPPAT140', 'ACPPAT141', 'ACPPAT160', 'AGMHE', 'AGMT', 'ACPPAT161', 'AGMt2pp', 'AGMtex', 'ACPPAT180', 'ACPPAT181', 'ACPS1', 'AGPAT120', 'AGPAT140', 'ACS', 'ACSERtex', 'AGPAT141', 'ACSERtpp', 'AGPAT160', 'AGPAT161', 'AGPAT180', 'AGPAT181', 'AGPR', 'ACt2rpp', 'ACt4pp', 'ACtex', 'ADA', 'ADCL', 'AGt3', 'AHCYSNS', 'ADCS', 'AICART', 'AMALT3', 'AIRC2', 'AIRC3', 'AKGDH', 'AKGt2rpp', 'AKGtex', 'ALAALAD', 'ALAALAabcpp', 'ADD', 'ADEt2rpp', 'ADEtex', 'ADK1', 'ADK3', 'ADK4', 'ADMDC', 'ADNCYC', 'ADNK1', 'ALAALAr', 'ALAALAtex', 'ALAGLUE', 'ALAR', 'ADNUC', 'ADNt2pp_copy1', 'ADNt2pp_copy2', 'ADNtex', 'ADOCBIK', 'ADOCBLS', 'ALATA_D2', 'ALATA_L', 'ALATA_L2', 'ALATRS', 'ALAabcpp', 'ALAt2pp_copy1', 'ADOCBLabcpp', 'ADOCBLtonex', 'ALAt2pp_copy2', 'AMALT4', 'ALAt4pp', 'ALAtex', 'ALCD19', 'ALCD2x', 'ADPRDP', 'ADPT', 'ADSK', 'ADSL1r', 'ADSL2r', 'ADSS', 'AGDC', 'ALDD19xr', 'ALDD2x', 'AMANAPEr', 'ALDD2y', 'ALDD3y', 'ALDD4', 'AGM3PA', 'AGM3PApp', 'AGM3PH', 'AGM3Pt2pp', 'AGM4PA', 'ALLK', 'ALLPI', 'ALLTAMH', 'ALLTN', 'ALLTNt2rpp', 'AGM4PApp', 'AGM4PCP', 'ALLTNtex', 'AMANK', 'ALLULPE', 'AMAOTr', 'ALLabcpp', 'ALLtex', 'AMMQLT8', 'ALPATE160pp', 'ASCBptspp', 'ASCBtex', 'ALPATG160pp', 'AMPMS2', 'ALR2', 'ALR4x', 'ASNN', 'ASNNpp', 'AMPN', 'ASNS1', 'ALTRH', 'AM3PA', 'ASNS2', 'AMPTASECG', 'AM4PA', 'ASNTRS', 'AM4PCP', 'AMALT1', 'ASNabcpp', 'ASNt2rpp', 'ASNtex', 'AMALT2', 'ASO3t8pp', 'AMPTASEPG', 'ASO3tex', 'ASP1DC', 'AMPtex', 'ASPCT', 'ANHGMtex', 'ASPK', 'ASPO3', 'ANHMK', 'ASPO4', 'ASPO5', 'ANPRT', 'ASPO6', 'ANS', 'AOBUTDs', 'AOXSr2', 'ASPT', 'CAT', 'ASPTA', 'AP4AH', 'ASPTRS', 'CAt6pp', 'CBIAT', 'AP4AS', 'CBItonex', 'AP5AH', 'CBIuabcpp', 'ASPabcpp', 'ASPt2_2pp', 'ASPt2_3pp', 'ASPt2pp_copy1', 'CBL1abcpp', 'CBL1tonex', 'APCS', 'CBLAT', 'CBMD', 'CBMKr', 'CBPS', 'ASPt2pp_copy2', 'ASPtex', 'ASR', 'AST', 'ATHRDHr', 'ATPHs', 'ATPM', 'CCGS', 'CD2abcpp', 'CD2t3pp', 'CD2tex', 'ATPPRT', 'APG3PAT120', 'ATPS4rpp', 'BALAt2pp', 'BALAtex', 'BETALDHx', 'CD2tpp', 'CDAPPA120', 'CDAPPA140', 'CDAPPA141', 'CDAPPA160', 'CDAPPA161', 'CDAPPA180', 'CDAPPA181', 'CDGR', 'BETALDHy', 'BMOCOS', 'BMOGDS1', 'BMOGDS2', 'BPNT', 'BSORx', 'BSORy', 'CDGS', 'CDPMEK', 'BTNt2ipp', 'APG3PAT140', 'BTNtex', 'BTS5', 'BUTCT', 'CFAS160E', 'CFAS160G', 'CFAS180E', 'BUTSO3abcpp', 'BUTSO3tex', 'CFAS180G', 'APG3PAT141', 'CGLYabcpp', 'CGLYtex', 'CHLabcpp', 'CHLt2pp', 'CHLtex', 'BUTt2rpp', 'BUTtex', 'BWCOGDS1', 'BWCOGDS2', 'BWCOS', 'CA2t3pp', 'CA2tex', 'CADVtpp', 'CHOLD', 'CHORM', 'CHORS', 'CHRPL', 'CHTBSptspp', 'CHTBStex', 'CINNDO', 'CITL', 'CLt3_2pp', 'CITt3pp', 'APG3PAT160', 'CITt7pp', 'CITtex', 'CLtex', 'CMPN', 'CMPtex', 'CLIPAabctex', 'APG3PAT161', 'CLPNH120pp', 'CLPNH140pp', 'CLPNH141pp', 'CMtex', 'CMtpp', 'CO2tex', 'CLPNH160pp', 'CO2tpp', 'COBALT2abcpp', 'COBALT2t3pp', 'COBALT2tex', 'CLPNH161pp', 'CLPNH180pp', 'CLPNH181pp', 'CLPNS120pp', 'CLPNS140pp', 'COBALT2tpp', 'APG3PAT180', 'COLIPAKpp', 'CLPNS141pp', 'CLPNS160pp', 'APG3PAT181', 'CLPNS161pp', 'COLIPAPabctex', 'COLIPAabcpp', 'APH120', 'COLIPAabctex', 'CLPNS180pp', 'APH140', 'CLPNS181pp', 'CPGNR1', 'APH141', 'APH160', 'CPGNR2', 'CPGNR3', 'APH161', 'CYANSTpp', 'CPGNUtex', 'APH180', 'APH181', 'CPGNUtpp', 'APPLDHr', 'CPGNabcpp', 'CPGNexs', 'CPGNtonex', 'CPH4S', 'CPMPS', 'CYANtex', 'CYNTAH', 'CYNTt2pp', 'CYNTtex', 'CYSDDS', 'CYSDS', 'CYSDabcpp', 'CYSDtex', 'CYSS', 'CYSSADS', 'CPPPGO', 'CPPPGO2', 'CRNBTCT', 'CRNCAL2', 'CRNCAR', 'CRNCBCT', 'CYSTL', 'APRAUR', 'CYSTRS', 'CYSabc2pp', 'CRNCDH', 'CRNDCAL2', 'ARAI', 'CRNDabcpp', 'CYSabcpp', 'CYStex', 'ARBTNR1', 'CYStpp', 'CYTBD2pp', 'CYTBDpp', 'CYTBO3_4pp', 'CYTD', 'CRNDt2rpp', 'CRNDtex', 'CRNabcpp', 'CRNt2rpp', 'CRNt7pp', 'CYTDH', 'CRNt8pp', 'CYTDK2', 'ARBTNR2', 'CYTDt2pp_copy1', 'CRNtex', 'CS', 'CSND', 'CYTDt2pp_copy2', 'CYTDtex', 'CSNt2pp', 'ARBTNR3', 'CSNtex', 'CTBTCAL2', 'CTBTabcpp', 'CYTK1', 'CYTK2', 'D_LACt2pp', 'D_LACtex', 'CTBTt2rpp', 'CTECOAI6', 'ARBTNabcpp', 'CTECOAI7', 'CTECOAI8', 'DAAD', 'DADA', 'DADK', 'DADNt2pp', 'DADNtex', 'DAGK120', 'CTPS2', 'CU1Opp', 'CU1abcpp', 'CU2abcpp', 'CU2tex', 'DAGK140', 'ARBTNexs', 'DAGK141', 'DAGK160', 'CU2tpp', 'CUt3', 'CUtex', 'DAGK161', 'ARBTNtex', 'DAGK180', 'DAGK181', 'CYANST', 'DALAt2pp', 'ARBTNtonex', 'DALAtex', 'DAMPtex', 'DCYTt2pp', 'ARBTNtpp', 'DCYTtex', 'DDCAtexi', 'DAPAL', 'DAPDC', 'DAPE', 'DAPabcpp', 'DDGALK', 'DDGLCNt2rpp', 'DDGLCNtex', 'DDGLK', 'DDPA', 'DAPtex', 'DASYN120', 'DASYN140', 'DASYN141', 'DASYN160', 'DDPGALA', 'DGK1', 'DGMPtex', 'DASYN161', 'ARBTptspp', 'DASYN180', 'DASYN181', 'DGSNt2pp', 'DGSNtex', 'DHACOAH', 'DATPHs', 'DB4PS', 'DHAD1', 'ARBTtex', 'DHAD2', 'DHAPT', 'DBTS', 'DC6PH', 'DCAtex', 'DHAtex', 'ARBabcpp', 'DHAtpp', 'DHBD', 'DHBS', 'DHBSH', 'DHCIND', 'DCMPtex', 'DCTPD', 'DCYTD', 'DHCINDO', 'ARBt2rpp', 'DHDPRy', 'DHDPS', 'ARBt3ipp', 'DHFR', 'DHFS', 'FFSD', 'ARBtex', 'DNMPPA', 'DHMPTR', 'DHNAOT4', 'DHNCOAS', 'DNTPPA', 'ARGAGMt7pp', 'DOGULNR', 'DHNCOAT', 'DHNPA2r', 'DOPAtex', 'ARGDC', 'DHNPTE', 'DOXRBCNtex', 'ARGDCpp', 'DOXRBCNtpp', 'DHORD2', 'ARGORNt7pp', 'DHORD5', 'DHORDfum', 'DHORTS', 'DHPPD', 'DPCOAK', 'DPR', 'DRPA', 'DSBAO1', 'DHPPDA2', 'ARGSL', 'DHPS2', 'DHPTDCs2', 'DSBAO2', 'DSBCGT', 'DSBDR', 'DHPTDNR', 'DHPTDNRN', 'ARGSS', 'DHPTPE', 'DHQS', 'DSBGGT', 'DSERDHr', 'DSERt2pp', 'DSERtex', 'DHQTi', 'ARGTRS', 'DIMPtex', 'DINSt2pp', 'DTARTD', 'ARGabcpp', 'DTMPK', 'DINStex', 'DKGLCNR1', 'DTMPtex', 'ARGt3pp', 'DUMPtex', 'DURADx', 'DURIK1', 'DURIPP', 'DURIt2pp', 'DURItex', 'DKGLCNR2x', 'DUTPDP', 'ARGtex', 'DXPRIi', 'DXPS', 'DKGLCNR2y', 'DMATT', 'DMPPS', 'DMQMT', 'DXYLK', 'E4PD', 'DMSOR1', 'ASAD', 'DMSOR1pp', 'DMSOR2', 'EAR100x', 'EAR100y', 'EAR120x', 'DMSOR2pp', 'EAR120y', 'DMSOtex', 'ASCBPL', 'DMSOtpp', 'DMStex', 'EAR121x', 'EAR121y', 'EAR140x', 'FCLK', 'EAR140y', 'EAR141x', 'EAR141y', 'EAR160x', 'EAR160y', 'EAR161x', 'EAR161y', 'EAR180x', 'EAR180y', 'EAR181x', 'EAR181y', 'ECOAH5', 'ECOAH6', 'ECOAH7', 'ECOAH8', 'EDA', 'EDD', 'EDTXS1', 'EDTXS2', 'EDTXS3', 'EDTXS4', 'EAR40x', 'EAR40y', 'EAR60x', 'EAR60y', 'EGMEACPR', 'FCLPA', 'ENLIPAabctex', 'ENO', 'EAR80x', 'EAR80y', 'ECA4COLIPAabctex', 'ENTCS', 'ENTERES', 'ENTERES2', 'EPMEACPR', 'ECA4OALpp', 'ECAP1pp', 'ECAP2pp', 'ECAP3pp', 'ECAtpp', 'ETHAAL', 'ETHAt2pp', 'ECOAH1', 'FCLT', 'ECOAH2', 'ECOAH3', 'ETHAtex', 'ETHSO3abcpp', 'ETHSO3tex', 'ECOAH4', 'ETOHtex', 'FDH4pp', 'ETOHtrpp', 'F6PA', 'F6PP', 'FHL', 'FLDR2', 'F6Pt6_2pp', 'FLVR', 'FDH5pp', 'FLVRx', 'FMETTRS', 'FMNAT', 'FMNRx', 'F6Ptex', 'FA100ACPHi', 'FA120ACPHi', 'FA140ACPHi', 'FA141ACPHi', 'FA160ACPHi', 'FA161ACPHi', 'FMNRx2', 'FOMETRi', 'FORCT', 'FDMO', 'FORt2pp', 'FORtex', 'FORtppi', 'FRD2', 'FRD3', 'FRUK', 'FRULYSDG', 'FRULYSE', 'FA80ACPHi', 'FDMO2', 'FRULYSK', 'FRULYSt2pp', 'FRULYStex', 'FRUURt2rpp', 'FRUURtex', 'FACOAE100', 'FACOAE120', 'FACOAE140', 'FRUpts2pp', 'FRUptspp', 'FRUtex', 'FTHFD', 'FTHFLi', 'FUCtex', 'FUCtpp', 'FUM', 'FUMt2_2pp', 'FUMt2_3pp', 'FACOAE141', 'FACOAE160', 'FACOAE161', 'FACOAE180', 'FACOAE181', 'FUMtex', 'FUSAtex', 'FDMO3', 'FUSAtpp', 'G1PACT', 'G1PPpp', 'FACOAE60', 'FACOAE80', 'FACOAL100t2pp', 'FACOAL120t2pp', 'FACOAL140t2pp', 'G1PTT', 'G1Ptex', 'G1SAT', 'FACOAL141t2pp', 'FDMO4', 'FACOAL160t2pp', 'FACOAL161t2pp', 'FACOAL180t2pp', 'FACOAL181t2pp', 'FACOAL60t2pp', 'FACOAL80t2pp', 'G2PP', 'G2PPpp', 'G3PAT120', 'G3PAT140', 'G3PAT141', 'G3PAT160', 'G3PAT161', 'G3PAT180', 'FADRx', 'FDMO6', 'FADRx2', 'FALDH2', 'FALDtex', 'FALDtpp', 'FALGTHLs', 'G3PAT181', 'G3PCabcpp', 'G3PCtex', 'G3PD2', 'G3PD5', 'G3PD6', 'FBA', 'FBA3', 'G3PD7', 'FE2abcpp', 'FBP', 'G3PEabcpp', 'FE2t2pp', 'G3PEtex', 'G3PGabcpp', 'G3PGtex', 'G3PIabcpp', 'G3PItex', 'FCI', 'G3PSabcpp', 'FE2t3pp', 'G3PStex', 'G3PT', 'GGPTRCS', 'GHBDHx', 'GHMT2r', 'G5SADs', 'FE2tex', 'G5SD', 'G6PDA', 'GK1', 'GLBRAN2', 'GLCATr', 'G6PDH2r', 'FE2tpp', 'G6PP', 'G6Pt6_2pp', 'G6Ptex', 'GAL1PPpp', 'GLCDpp', 'FE3DCITabcpp', 'GLCNt2rpp', 'GAL1Ptex', 'GALBDtex', 'GALCTD', 'GALCTLO', 'GALCTND', 'GLCNtex', 'GLCP', 'GLCP2', 'GALCTNLt2pp', 'FE3DCITtonex', 'GALCTNLtex', 'GALCTNt2pp', 'GALCTNtex', 'GALCTt2rpp', 'GLCRAL', 'GLCRD', 'GLCRt2rpp', 'GALCTtex', 'FE3DHBZR', 'GALKr', 'GALM2pp', 'GALS3', 'GLCRtex', 'GLCS1', 'GLCTR1', 'GLCTR2', 'GALT1', 'FE3DHBZSabcpp', 'GALTptspp', 'GLCTR3', 'FE3DHBZStonex', 'GLCUR1Ptex', 'GALTtex', 'GLCURt2rpp', 'GLCURtex', 'GLCabcpp', 'GALURt2rpp', 'GALURtex', 'GALUi', 'GLCptspp', 'FE3HOXR1', 'GLCt2pp', 'GALabcpp', 'FE3HOXR2', 'GLCtex_copy1', 'FE3HOXR3', 'GLCtex_copy2', 'GLDBRAN2', 'FE3HOXUtex', 'GLGC', 'FE3HOXUtpp', 'GLNS', 'FE3HOXabcpp', 'GLNTRS', 'FE3HOXexs', 'GLNabcpp', 'GLNtex', 'GLTPD', 'GLU5K', 'GLUABUTt7pp', 'GALt2pp', 'GALtex', 'GAM6Pt6_2pp', 'GAMAN6Ptex', 'GAMptspp', 'GAMtex', 'GAPD', 'GLUCYS', 'GLUDC', 'GLUDy', 'GLUN', 'GLUNpp', 'GLUPRT', 'GLUR', 'GARFT', 'FE3HOXtonex', 'GART', 'GLUSy', 'GLUTRR', 'GLUTRS', 'GLUabcpp', 'GBBTNtex', 'GCALDD', 'GDMANE', 'GLUt2rpp', 'FE3Ri', 'GLUt4pp', 'GLUtex', 'GDPDPK', 'GDPMNH', 'GLXCL', 'FE3abcpp', 'GLYALDtex', 'GDPMNP', 'GDPTPDP', 'GLYALDtpp', 'GDPtex', 'FE3tex', 'GF6PTA', 'GGGABADr', 'GGGABAH', 'GGPTRCO', 'GLYAT', 'GLYBabcpp', 'GLYBt2pp', 'GLYBtex', 'GLYC2Pabcpp', 'GLYC2Ptex', 'GLYC3Pabcpp', 'FECRMR1', 'GLYC3Pt6pp', 'GLYC3Ptex', 'GTPDPDP', 'GLYCAt2rpp', 'GTPDPK', 'FECRMR2', 'GTPHs', 'GLYCAtex', 'GLYCDx', 'GLYCK', 'GTPtex', 'GUACYC', 'GLYCK2', 'FECRMR3', 'GLYCL', 'GLYCLTDx', 'GLYCLTDy', 'GUAD', 'GUAPRT', 'GUAt2pp', 'GUAtex', 'GUAtpp', 'GUI1', 'GUI2', 'GUR1PPpp', 'H2O2tex', 'H2Otex', 'H2Otpp', 'H2SO', 'GLYCLTt2rpp', 'GLYCLTt4pp', 'GLYCLTtex', 'GLYCTO2', 'GLYCTO3', 'GLYCTO4', 'GLYCtex', 'GLYCtpp', 'GLYK', 'H2St1pp', 'H2Stex', 'H2tex', 'FECRMUtex', 'H2tpp', 'FECRMUtpp', 'HACD1', 'HACD2', 'HACD3', 'HACD4', 'HACD5', 'HACD6', 'GLYOX', 'GLYOX3', 'GLYTRS', 'GLYt2pp_copy1', 'GLYt2pp_copy2', 'HACD7', 'HACD8', 'HADPCOADH3', 'HBZOPT', 'HCINNMt2rpp', 'FECRMabcpp', 'HCINNMtex', 'HCO3E', 'HCYSMT', 'GLYt4pp', 'GLYtex', 'GMAND', 'HCYSMT2', 'GMHEPAT', 'FECRMexs', 'GMHEPK', 'HDCAtexi', 'HDCEAtexi', 'HEMEOS', 'HEPK1', 'GMHEPPA', 'GMPR', 'HEPK2', 'HEPT1', 'FECRMtonex', 'GMPS2', 'FEENTERR1', 'GMPtex', 'GND', 'GNK', 'HEPT2', 'HEPT3', 'HEPT4', 'HETZK', 'HEX1', 'HEX4', 'HEX7', 'GOFUCR', 'GP4GH', 'GPDDA1', 'HEXt2rpp', 'FEENTERR2', 'GPDDA1pp', 'GPDDA2', 'FEENTERR3', 'GPDDA2pp', 'HG2abcpp', 'HG2t3pp', 'FEENTERabcpp', 'HG2tex', 'GPDDA3', 'GPDDA3pp', 'HISTD', 'FEENTERexs', 'HISTP', 'HISTRS', 'GPDDA4', 'HISabcpp', 'FEENTERtex', 'GPDDA4pp', 'FEENTERtonex', 'GPDDA5', 'GPDDA5pp', 'HISt2rpp', 'HIStex', 'HKNDDH', 'HKNTDH', 'HMBS', 'HMPK1', 'HOMt2pp', 'GRTT', 'GRXR', 'FEENTERtpp', 'GSNK', 'HOMtex', 'GSNt2pp', 'FEOXAMR1', 'GSNtex', 'FEOXAMR2', 'FEOXAMR3', 'GSPMDA', 'FEOXAMUtex', 'GSPMDS', 'FEOXAMUtpp', 'GTHOXtex', 'HOPNTAL', 'GTHOr', 'FEOXAMabcpp', 'GTHPi', 'HPPK2', 'GTHRDHpp', 'FEOXAMexs', 'GTHRDabc2pp', 'HPPPNDO', 'HPPPNt2rpp', 'FEOXAMtonex', 'HPPPNtex', 'HPYRI', 'HPYRRx', 'HPYRRy', 'HSDy', 'GTHRDabcpp', 'GTHRDtex', 'GTHS', 'GTPCI', 'GTPCII2', 'FEROpp', 'HSK', 'HSST', 'INStex', 'FESD1s', 'IPDDI', 'IPDPS', 'HSTPT', 'HXAND', 'HXAtex', 'IPMD', 'FESD2s', 'IPPMIa', 'FESR', 'IPPMIb', 'HXCT', 'LIPAabctex', 'HXPRT', 'HYD1pp', 'IPPS', 'ISETACabcpp', 'ISETACtex', 'K2L4Aabcpp', 'K2L4Aabctex', 'KARA1', 'HYD2pp', 'HYD3pp', 'LIPOCT', 'HYPOE', 'KARA2', 'KAS14', 'KAS15', 'LIPOS', 'KDOCT2', 'KDOPP', 'HYXNtex', 'HYXNtpp', 'Htex', 'KDOPS', 'LIPOt2pp', 'KG6PDC', 'Kabcpp', 'Kt2pp', 'Kt3pp', 'Ktex', 'L_LACD2', 'I2FE2SR', 'I2FE2SS', 'I2FE2SS2', 'I2FE2ST', 'I4FE4SR', 'I4FE4ST', 'ICDHyr', 'ICHORS_copy1', 'ICHORS_copy2', 'ICHORT', 'ICL', 'ICYSDS', 'IDOND', 'IDOND2', 'IDONt2rpp', 'L_LACD3', 'L_LACt2rpp', 'L_LACtex', 'LA4NTpp', 'LACZ', 'LACZpp', 'LADGMDH', 'LALADGLUtex', 'IDONtex', 'IG3PS', 'LALADGLUtpp', 'LIPOtex', 'LALALGLUtex', 'LALALGLUtpp', 'IGPDH', 'IGPS', 'LPADSS', 'ILETA', 'ILETRS', 'ILEabcpp', 'ILEt2rpp', 'ILEtex', 'IMPC', 'LALDO2x', 'LALDO3', 'LALGP', 'LCADi', 'LCARR', 'LCARS', 'IMPD', 'IMPtex', 'INDOLEt2pp', 'INDOLEt2rpp', 'INDOLEtex', 'INOSTt4pp', 'INSH', 'INSK', 'INSTtex', 'LCTSt3ipp', 'LCTStex', 'LCTStpp', 'INSt2pp_copy1', 'LDH_D', 'LPLIPAL1A120pp', 'LDH_D2', 'LEUTAi', 'LEUTRS', 'INSt2pp_copy2', 'LEUabcpp', 'LPLIPAL1A140pp', 'LEUt2rpp', 'LEUtex', 'LYStex', 'LYXI', 'LGTHL', 'LPLIPAL1A141pp', 'LIPACabcpp', 'LIPAHT2ex', 'LIPAHTex', 'LIPAMPL', 'LIPATPT', 'LIPAabcpp', 'LYXt2pp', 'LYXtex', 'M1PD', 'MACPD', 'MALCOAMT', 'MALDDH', 'MALDt2_2pp', 'LPLIPAL1A160pp', 'MALDtex', 'MALS', 'MALTATr', 'MELIBt2pp', 'LPLIPAL1A161pp', 'MELIBt3ipp', 'MELIBtex', 'MALTHXabcpp', 'MALTHXtexi', 'MALTPTabcpp', 'LPLIPAL1A180pp', 'MALTPTtexi', 'MEOHtex', 'MEOHtrpp', 'MEPCT', 'MALTTRabcpp', 'MALTTRtexi', 'LPLIPAL1A181pp', 'MALTTTRabcpp', 'MALTTTRtexi', 'MALTabcpp', 'METAT', 'METDabcpp', 'METDtex', 'METOX1s', 'METOX2s', 'MALTptspp', 'MALTtexi', 'LPLIPAL1E120pp', 'MALt2_2pp', 'MALt2_3pp', 'METS', 'METSOX1abcpp', 'METSOX1tex', 'MALt3pp', 'METSOX2abcpp', 'MALtex', 'LPLIPAL1E140pp', 'MAN1PT2', 'MAN6PI', 'LPLIPAL1E141pp', 'MAN6Pt6_2pp', 'METSOX2tex', 'LPLIPAL1E160pp', 'MAN6Ptex', 'METSOXR1', 'MANAO', 'LPLIPAL1E161pp', 'MANGLYCptspp', 'MANGLYCtex', 'METSOXR2', 'METTRS', 'LPLIPAL1E180pp', 'METabcpp', 'METtex', 'MANPGH', 'MANptspp', 'MANtex', 'MCITD', 'MG2t3_2pp', 'LPLIPAL1E181pp', 'MG2tex', 'MG2tpp', 'MCITL2', 'MCITS', 'MG2uabcpp', 'LPLIPAL1G120pp', 'MGSA', 'MI1PP', 'MICITDr', 'MCOATA', 'MCPST', 'MINCYCtex', 'LPLIPAL1G140pp', 'MINCYCtpp', 'MCTP1App', 'MINOHPtexi', 'MCTP1Bpp', 'LPLIPAL1G141pp', 'MCTP2App', 'MDDCP1pp', 'MDDCP2pp', 'MDDCP3pp', 'MLDCP1App', 'MLDCP1Bpp', 'MLDCP2App', 'MLDCP2Bpp', 'MLDCP3App', 'MLDEP1pp', 'MDDCP4pp', 'MDDCP5pp', 'LPLIPAL1G160pp', 'MDDEP1pp', 'MDDEP2pp', 'MLDEP2pp', 'MLTG1', 'MLTG2', 'MDDEP3pp', 'MDDEP4pp', 'LPLIPAL1G161pp', 'MDH', 'MLTG3', 'MLTG4', 'MDH2', 'LPLIPAL1G180pp', 'MDH3', 'MLTG5', 'MLTGY1pp', 'MLTGY2pp', 'MLTGY3pp', 'MLTGY4pp', 'ME1', 'ME2', 'MECDPDH5', 'MECDPS', 'MLTP1', 'MLTP2', 'MLTP3', 'MMCD', 'MMETt2pp', 'LPLIPAL1G181pp', 'MMETtex', 'MMM', 'MOADSUx', 'MOAT', 'MN2t3pp', 'LPLIPAL2A120', 'MN2tpp', 'MOAT2', 'LPLIPAL2A140', 'MOAT3C', 'MN6PP', 'LPLIPAL2A141', 'MNLptspp', 'MOBDabcpp', 'MOBDtex', 'LPLIPAL2A160', 'MOCDS', 'MOCOS', 'MOGDS', 'MOHMT', 'MOX', 'MPTAT', 'MPTG', 'MNLtex', 'MNNH', 'MNt2pp', 'MNtex', 'NDPK6', 'MPTG2', 'MPTS', 'MPTSS', 'MSAR', 'NDPK7', 'NDPK8', 'LPLIPAL2A161', 'NH4tex', 'NH4tpp', 'NHFRBO', 'MSO3abcpp', 'MSO3tex', 'MTAN', 'MTHFC', 'MTHFD', 'MTHFR2', 'NI2abcpp', 'NI2t3pp', 'MTHTHFSs', 'MTRPOX', 'N2Otex', 'NI2tex', 'LPLIPAL2A180', 'NI2tpp', 'NI2uabcpp', 'N2Otpp', 'NACODA', 'NACtex', 'NACtpp', 'NADDP', 'NADH10', 'NADH16pp', 'NMNAT', 'NMNDA', 'NMNN', 'NMNPtpp', 'NADH17pp', 'NADH18pp', 'NMNt7pp', 'LPLIPAL2A181', 'NMNtex', 'NNAM', 'NADH5', 'NADH9', 'NADK', 'NNATr', 'NNDMBRT', 'NADN', 'LPLIPAL2ATE120', 'NADPHQR2', 'NADPHQR3', 'NNDPR', 'NO2t2rpp', 'NO2tex', 'NADPHQR4', 'NO3R1bpp', 'NADPPPS', 'LPLIPAL2ATE140', 'NADS1', 'NADTRHD', 'NAMNPP', 'NAt3_1p5pp', 'NO3R1pp', 'NO3R2bpp', 'NO3R2pp', 'NO3t7pp', 'NO3tex', 'NODOx', 'NAt3_2pp', 'NAt3pp', 'NODOy', 'NAtex', 'LPLIPAL2ATE141', 'NDPK1', 'NDPK2', 'NOVBCNtex', 'NOVBCNtpp', 'NOtex', 'NDPK3', 'NOtpp', 'NDPK4', 'LPLIPAL2ATE160', 'NDPK5', 'NTD1', 'NTD10', 'NTD10pp', 'LPLIPAL2ATE161', 'NTD11', 'NTD11pp', 'NTD12', 'NTD12pp', 'NTD1pp', 'NTD2', 'URIC', 'NTD2pp', 'LPLIPAL2ATE180', 'NTD3', 'NTD3pp', 'LPLIPAL2ATE181', 'NTD4', 'NTD4pp', 'NTD9pp', 'NTP1', 'NTP10', 'NTD5', 'LPLIPAL2ATG120', 'NTD5pp', 'NTP11', 'NTP12', 'NTD6', 'LPLIPAL2ATG140', 'NTD6pp', 'NTD7', 'NTP3', 'NTP3pp', 'NTD7pp', 'NTP5', 'LPLIPAL2ATG141', 'NTPP1', 'NTPP10', 'NTD8', 'NTD8pp', 'NTD9', 'NTPP11', 'NTPP2', 'NTPP3', 'NTPP4', 'NTPP5', 'OPMEACPS', 'LPLIPAL2ATG160', 'ORNDC', 'ORNabcpp', 'NTPP6', 'NTPP7', 'NTPP8', 'ORNtex', 'LPLIPAL2ATG161', 'OROTt2_2pp', 'OROTtex', 'ORPT', 'NTPP9', 'NTPTP1', 'NTPTP2', 'OXAMTC', 'LPLIPAL2ATG180', 'OXCDC', 'OXCOAHDH', 'NTRIR2x', 'NTRIR3pp', 'NTRIR4pp', 'OXDHCOAT', 'P5CD', 'O16A4COLIPAabctex', 'LPLIPAL2ATG181', 'O16A4Lpp', 'P5CR', 'PA120abcpp', 'PA140abcpp', 'PA141abcpp', 'O16AP1pp', 'O16AP2pp', 'O16AP3pp', 'O16AT', 'O16AUNDtpp', 'PA160abcpp', 'LPLIPAL2E120', 'PA161abcpp', 'PA180abcpp', 'O16GALFT', 'O16GLCT1', 'O16GLCT2', 'PA181abcpp', 'LPLIPAL2E140', 'PACALDt2rpp', 'PACALDtex', 'PACCOAE', 'O2Stex', 'O2tex', 'O2tpp', 'OAADC', 'PACCOAL', 'OBTFL', 'LPLIPAL2E141', 'OCBT', 'OCDCAtexi', 'PANTS', 'PAPA120', 'PAPA120pp', 'PAPA140', 'OCDCEAtexi', 'OCTAtex', 'OCTDPS', 'OCTNLL', 'PAPA140pp', 'LPLIPAL2E160', 'PAPA141', 'PAPA141pp', 'OGMEACPD', 'OGMEACPR', 'LPLIPAL2E161', 'OGMEACPS', 'OHPBAT', 'PAPA160', 'PAPA160pp', 'PAPA161', 'LPLIPAL2E180', 'PAPA161pp', 'PAPA180', 'PAPA180pp', 'OHPHM', 'OMBZLM', 'OMCDC', 'PAPA181', 'PAPA181pp', 'OMMBLHX', 'LPLIPAL2E181', 'OMMBLHX3', 'PAPPT3', 'PAPSR', 'OMPDC', 'PAPSR2', 'PDE1', 'PDE4', 'OMPHHX', 'OMPHHX3', 'LPLIPAL2G120', 'OP4ENH', 'OPHBDC', 'PDH', 'PDX5PO2', 'PDX5POi', 'PDX5PS', 'OPHHX', 'OPHHX3', 'OPMEACPD', 'OPMEACPR', 'PDXPP', 'LPLIPAL2G140', 'PE120abcpp', 'PE140abcpp', 'LPLIPAL2G141', 'PE141abcpp', 'PG120abcpp', 'PG140abcpp', 'LPLIPAL2G160', 'PG141abcpp', 'PG160abcpp', 'PG161abcpp', 'PE160abcpp', 'PE161abcpp', 'PG180abcpp', 'LPLIPAL2G161', 'PG181abcpp', 'PE180abcpp', 'PE181abcpp', 'PEAMNOpp', 'PEAMNtex', 'PGAMT', 'PGCD', 'PGI', 'LPLIPAL2G180', 'PGK', 'PGL', 'PGLYCP', 'PGM', 'PGMT', 'PGP120abcpp', 'PGP140abcpp', 'PERD', 'PETNT161pp', 'PETNT181pp', 'PFK', 'PFK_2', 'PFK_3', 'PFL', 'PGP141abcpp', 'PGP160abcpp', 'PGP161abcpp', 'LPLIPAL2G181', 'PGP180abcpp', 'PGP181abcpp', 'PLIPA1E181pp', 'PGPP120', 'LSERDHr', 'PGPP120pp', 'PGPP140', 'PLIPA1G120pp', 'PLIPA1G140pp', 'PLIPA1G141pp', 'PLIPA1G160pp', 'PLIPA1G161pp', 'PGPP140pp', 'PGPP141', 'PGPP141pp', 'PLIPA1G180pp', 'PLIPA1G181pp', 'PLIPA2A120pp', 'PLIPA2A140pp', 'PGPP160', 'PGPP160pp', 'PGPP161', 'PLIPA2A141pp', 'LYSDC', 'PLIPA2A160pp', 'PLIPA2A161pp', 'PLIPA2A180pp', 'PLIPA2A181pp', 'PGPP161pp', 'PGPP180', 'PGPP180pp', 'PGPP181', 'PGPP181pp', 'PLIPA2E120pp', 'LYSTRS', 'PLIPA2E140pp', 'PLIPA2E141pp', 'PGSA120', 'PGSA140', 'LYSabcpp', 'PGSA141', 'PGSA160', 'PGSA161', 'PGSA180', 'PGSA181', 'PHEMEabcpp', 'PLIPA2E160pp', 'PLIPA2E161pp', 'PLIPA2E180pp', 'PLIPA2E181pp', 'PLIPA2G120pp', 'PLIPA2G140pp', 'PLIPA2G141pp', 'PLIPA2G160pp', 'PLIPA2G161pp', 'PLIPA2G180pp', 'PHEMEtiex', 'PHETA1', 'PHETRS', 'PLIPA2G181pp', 'LYSt2pp', 'PMANM', 'PMDPHT', 'PMEACPE', 'PHEt2rpp', 'PHEtex', 'PHYTSpp', 'PIt2rpp', 'PMPK', 'PNTK', 'PItex', 'LYSt3pp', 'PIuabcpp', 'PLIPA1A120pp', 'PLIPA1A140pp', 'PLIPA1A141pp', 'PLIPA1A160pp', 'PNTOt4pp', 'PNTOtex', 'POAACR', 'POR5', 'POX', 'PPA', 'PPA2', 'PPAKr', 'PLIPA1A161pp', 'PLIPA1A180pp', 'PLIPA1A181pp', 'PPALtex', 'PPALtpp', 'PLIPA1E120pp', 'PPAt4pp', 'PPAtex', 'PPBNGS', 'PPC', 'PLIPA1E140pp', 'PLIPA1E141pp', 'PLIPA1E160pp', 'PLIPA1E161pp', 'PLIPA1E180pp', 'PPCDC', 'PPCK', 'PYDXtex', 'PPCSCT', 'PPGPPDP', 'PPK2', 'PPK', 'PPM', 'PPM2', 'PPNCL2', 'PPND', 'PPNDH', 'PPPGO', 'PPPGO3', 'PPPNDO', 'PPPNt2rpp', 'PPPNtex', 'PPS', 'PPTHpp', 'PPTtex', 'PRAGSr', 'PRAIS', 'PRAIi', 'PRAMPC', 'PRASCSi', 'PRATPP', 'PRFGS', 'PRMICI', 'PROD2', 'PROGLYabcpp', 'PROGLYtex', 'PROTRS', 'PROabcpp', 'PROt2rpp', 'PROt4pp', 'PROtex', 'PRPPS', 'PSCLYSt2pp', 'PSCLYStex', 'PSCVT', 'PSD120', 'RNTR4c2', 'RPE', 'RPI', 'RZ5PP', 'S2FE2SR', 'S2FE2SS', 'S2FE2SS2', 'PSD140', 'PSD141', 'S2FE2ST', 'S4FE4SR', 'PYDXtpp', 'S4FE4ST', 'S7PI', 'SADH', 'PSD160', 'PYK', 'PSD161', 'SADT2', 'PYNP2r', 'SARCOX', 'SBTPD', 'SBTptspp', 'SBTtex', 'PSD180', 'PSD181', 'SCYSDS', 'PYROX', 'SDPDS', 'SDPTA', 'SELCYSS', 'SELGTHR', 'SELGTHR2', 'SELGTHR3', 'PSERT', 'PSERtex', 'PSP_L', 'PSP_Lpp', 'PSSA120', 'SELNPS', 'PYRt2rpp', 'SELR', 'SELtex', 'SELtpp', 'PSSA140', 'PSSA141', 'SEPHCHCS', 'PSSA160', 'SERASr', 'PYRtex', 'SERAT', 'PSSA161', 'PSSA180', 'PSSA181', 'PTA2', 'PTAr', 'SERD_D', 'SERD_L', 'PTHRpp', 'PTPATi', 'SERTRS', 'PTRCORNt7pp', 'QMO2', 'PTRCTA', 'SERTRS2', 'SERt2rpp', 'SERt4pp', 'SERtex', 'SFGTHi', 'SGDS', 'SGSAD', 'PTRCabcpp', 'PTRCt2pp', 'PTRCtex', 'SHCHCS3', 'QMO3', 'SHCHD2', 'SHCHF', 'PUNP1', 'PUNP2', 'SHK3Dr', 'QUIN2tex', 'SHKK', 'SHSL1', 'SKMt2pp', 'SKMtex', 'SLNTtex', 'PUNP3', 'PUNP4', 'PUNP5', 'PUNP6', 'QUIN2tpp', 'PUNP7', 'PYAM5PO', 'SLNTtpp', 'SO2tex', 'SO2tpp', 'SO3tex', 'SO4t2pp', 'SO4tex', 'PYDAMK', 'PYDAMtex', 'PYDAMtpp', 'PYDXK', 'PYDXNK', 'QUINDH', 'PYDXNtex', 'PYDXNtpp', 'SOTA', 'SPMDAT1', 'SPMDAT2', 'QULNS', 'SPMDabcpp', 'PYDXPP', 'R15BPK', 'SPMDt3pp', 'SPMDtex', 'R1PK', 'SPMS', 'SPODM', 'THMtex', 'THRA2', 'THRA', 'SPODMpp', 'SSALx', 'THRD', 'R5PP', 'THRD_L', 'THRPtex', 'THRS', 'THRTRS', 'THRabcpp', 'THRt2pp', 'SSALy', 'SUCASPtpp', 'SUCBZL', 'SUCBZS', 'SUCCt2_2pp', 'SUCCt2_3pp', 'SUCCt3pp', 'SUCCtex', 'SUCDi', 'SUCFUMtpp', 'SUCMALtpp', 'THRt2rpp', 'THRt4pp', 'THRtex', 'THYMt3pp', 'SUCOAS', 'R5PPpp', 'SUCRtex', 'SUCTARTtpp', 'THYMtex', 'THZPSN3', 'R5Ptex', 'TKT1', 'SUCptspp', 'RBFK', 'SULFACabcpp', 'TKT2', 'RBFSa', 'TMAOR1', 'TMAOR1pp', 'TMAOR2', 'TMAOR2pp', 'TMAOtex', 'SULFACtex', 'SULR', 'SULabcpp', 'T2DECAI', 'TAGURr', 'TALA', 'TARTD', 'TARTRDtex', 'TMAtex', 'TMDK1', 'TMDPP', 'TMDS', 'TARTRt7pp', 'TARTRtex', 'TMK', 'RBFSb', 'TMPK', 'TMPPP', 'TARTt2_3pp', 'TAUDO', 'RBK', 'TAURabcpp', 'TAURtex', 'TPI', 'RBK_L1', 'TCYNTtex', 'TDP', 'TDPADGAT', 'TDPAGTA', 'TDPDRE', 'TDPDRR', 'TPRDCOAS', 'TRDR', 'TRE6PH', 'TRE6PP', 'TDPGDH', 'TDSK', 'TRE6PS', 'RBP4E', 'TREH', 'TREHpp', 'TREptspp', 'TDSR1', 'TDSR2', 'TGBPA', 'THD2pp', 'THDPS', 'THFAT', 'THIORDXi', 'THMDt2pp_copy1', 'TREtex', 'TRPAS2', 'TRPS1', 'TRPS2', 'TRPS3', 'TRPTRS', 'THMDt2pp_copy2', 'THMDtex', 'TRPt2rpp', 'REPHACCOAI', 'TRPtex', 'TRSARr', 'TSULabcpp', 'TSULtex', 'TTDCAtexi', 'TTDCEAtexi', 'TTRCYCtex', 'THMabcpp', 'TYMtex', 'TYRL', 'TYROXDApp', 'TYRPpp', 'TYRPtex', 'TYRTA', 'TYRTRS', 'TYRt2rpp', 'TYRtex', 'ThDPAT', 'U23GAAT', 'UAAGDS', 'UACGALPpp', 'TTRCYCtpp', 'TUNGSabcpp', 'TUNGStex', 'URIH', 'URIK2', 'UACGAMPpp', 'UACGAMtex', 'URIt2pp_copy1', 'UACMAMO', 'UAG2E', 'UAGAAT', 'URIt2pp_copy2', 'URItex', 'USHD', 'UAGCVT', 'VALTA', 'UAGDP', 'RFAMPtex', 'UAGPT3', 'UAMAGS', 'UAMAS', 'VALTRS', 'VALabcpp', 'VALt2rpp', 'VALtex', 'RFAMPtpp', 'VPAMTr', 'WCOS', 'UAPGR', 'UDCPDP', 'UDCPDPS', 'X5PL3E', 'RHAT1', 'XAND', 'XANt2pp', 'UDCPDPpp', 'UDCPPtppi', 'RHCCE', 'UDPACGALtex', 'UDPG4E', 'UDPGALM', 'UDPGALPpp', 'UDPGALtex', 'XANtex', 'XANtpp', 'XMPtex', 'XPPT', 'XTSNH', 'XTSNt2rpp', 'XTSNtex', 'XYLI1', 'XYLI2', 'RIBabcpp', 'XYLK', 'XYLK2', 'UDPGD', 'RIBtex', 'UDPGDC', 'UDPGLCURtex', 'XYLUt2pp', 'UDPGPpp', 'XYLUtex', 'RMI', 'XYLabcpp', 'XYLt2pp', 'UDPGtex', 'UDPKAAT', 'XYLtex', 'ZN2abcpp', 'UGLCURPpp', 'RMK', 'UGLT', 'ZN2t3pp', 'ZN2tpp', 'ZNabcpp', 'Zn2tex', 'UGLYCH', 'UGMDDS', 'UHGADA', 'ULA4NFT', 'RMNtex', 'ULA4Ntppi', 'UM3PL', 'UM4PCP', 'UM4PL', 'UMPK', 'UMPtex', 'UPLA4FNF', 'RMNtpp', 'UPLA4FNT', 'UPP3MT', 'UPP3S', 'RMPA', 'UPPDC1', 'UPPRT', 'RNDR1', 'URACPAH', 'URAt2pp_copy1', 'RNDR1b', 'URAt2pp_copy2', 'URAtex', 'RNDR2', 'URDGLYCD', 'UREAtex', 'RNDR2b', 'UREAtpp', 'RNDR3', 'RNDR3b', 'RNDR4', 'RNDR4b', 'RNTR1c2', 'RNTR2c2', 'RNTR3c2', 'R12188_c', 'R12514_c', 'R04951_c', 'R10553_c', 'R10617_c', 'R09591_c', 'R09622_c', 'R10301_c', 'R12539_c', 'R11156_c', 'R11157_c', 'R04789_c', 'R01628_c', 'R02193_c', 'R00931_c']\r\n",
      "Metabolites:\r\n",
      "['10fthf_c', '12dgr120_c', '12dgr140_c', '12dgr141_c', '12dgr160_c', '12dgr161_c', '12dgr180_c', '12dgr181_c', '12ppd__R_c', '12ppd__S_c', '13dpg_c', '14dhncoa_c', '14glucan_c', '15dap_c', '1ddecg3p_c', '1hdec9eg3p_c', '1hdecg3p_c', '1odec11eg3p_c', '1odecg3p_c', '1pyr5c_c', '5dh4dglc_c', '2tdec7eg3p_c', '5drib_c', '2tdecg3p_c', '1tdec7eg3p_c', '1tdecg3p_c', '2tpr3dpcoa_c', '5fthf_c', '23dappa_c', '5mta_c', '34hpp_c', '23ddhb_c', '35cgmp_c', '5mthf_c', '23dhacoa_c', '5mtr_c', '3amac_c', '23dhb_c', '3c2hmp_c', '5prdmbz_c', '23dhba_c', '6hmhpt_c', '3c3hmp_c', '23dhbzs_c', '3c4mop_c', '6hmhptpp_c', '23dhdp_c', '3dhguln_c', '23dhmb_c', '3dhgulnp_c', '6pgc_c', '23dhmp_c', '6pgl_c', '3dhq_c', '3dhsk_c', '23doguln_c', '8aonn_c', '25aics_c', 'ACP_c', '3fe4s_c', '25dkglcn_c', '3haACP_c', 'LalaDglu_c', '25drapp_c', 'LalaDgluMdap_c', '3hadpcoa_c', '26dap_LL_c', '3hbcoa_c', 'LalaDgluMdapDala_c', 'LalaLglu_c', '26dap__M_c', 'N1aspmd_c', '3hcddec5eACP_c', '3hcinnm_c', '2agpe120_c', '3hcmrs7eACP_c', 'Nmtrp_c', 'Sfglutth_c', '2agpe140_c', 'aacald_c', '3hcpalm9eACP_c', '2agpe141_c', '3hcvac11eACP_c', '3hdcoa_c', 'aacoa_c', '2agpe160_c', 'aact_c', 'ac_c', '3hddcoa_c', '3hddecACP_c', '3hdecACP_c', '3hhcoa_c', '2agpe161_c', '3hhdcoa_c', '3hhexACP_c', 'acACP_c', '2agpe180_c', 'acac_c', '3hmrsACP_c', '2agpe181_c', '3hocoa_c', 'acald_c', '2agpg120_c', 'acanth_c', '3hoctACP_c', '2agpg140_c', '3hoctaACP_c', 'accoa_c', '2agpg141_c', '3hodcoa_c', '2agpg160_c', '3hpalmACP_c', 'acetol_c', 'acg5p_c', '2agpg161_c', 'acg5sa_c', '3hpp_c', '3hpppn_c', '2agpg180_c', 'acgam_c', 'acgam1p_c', '3htdcoa_c', '2agpg181_c', '3ig3p_c', 'acgam6p_c', '2ahbut_c', 'acglc__D_c', '3mob_c', '2amsa_c', '3mop_c', 'acglu_c', '2aobut_c', 'acmalt_c', '3ocddec5eACP_c', '2cpr5p_c', '3ocmrs7eACP_c', 'acmana_c', '2dda7p_c', 'acmanap_c', '3ocpalm9eACP_c', '2ddecg3p_c', '3ocvac11eACP_c', 'acmum6p_c', '2ddg6p_c', 'acnam_c', '3odcoa_c', '3oddcoa_c', '2ddglcn_c', '3oddecACP_c', 'acon_C_c', 'acon_T_c', '2dh3dgal_c', 'aconm_c', '3odecACP_c', '2dh3dgal6p_c', '3ohcoa_c', 'acorn_c', '2dhguln_c', '3ohdcoa_c', '2dhp_c', '3ohexACP_c', '2dmmq8_c', '3omrsACP_c', 'acser_c', '2dmmql8_c', 'actACP_c', '3oocoa_c', '2dr1p_c', '3ooctACP_c', 'actp_c', '2dr5p_c', '3ooctdACP_c', 'ade_c', '2fe1s_c', '3ohodcoa_c', '2fe2s_c', '3opalmACP_c', 'adn_c', 'adocbi_c', '3ophb_c', '3otdcoa_c', '2h3oppan_c', '3oxdhscoa_c', 'adocbip_c', 'adocbl_c', '2hdec9eg3p_c', '3pg_c', '2hdecg3p_c', '3php_c', 'adp_c', '2ippm_c', '3psme_c', '2mahmp_c', '3sala_c', 'adpglc_c', '2mcacn_c', 'adphep_DD_c', 'adphep_LD_c', '4abut_c', '4abutn_c', '2mcit_c', 'adprib_c', '2me4p_c', 'ag_c', '4abz_c', '4adcho_c', '2mecdp_c', 'agdpcbi_c', '2obut_c', 'agm_c', '4ahmmp_c', '2odec11eg3p_c', '4ampm_c', 'ahcys_c', '2odecg3p_c', 'ahdt_c', '4c2me_c', '4crsol_c', '2ohph_c', '4fe4s_c', 'aicar_c', 'air_c', '2ombzl_c', 'akg_c', '4h2opntn_c', '2omhmbl_c', '4hbz_c', 'ala_B_c', '2ommbl_c', 'ala__D_c', '4hthr_c', '2omph_c', '4mhetz_c', 'ala__L_c', '2oph_c', 'alaala_c', 'alac__S_c', '4mop_c', '2oxpaccoa_c', '4mpetz_c', 'alatrna_c', '2p4c2me_c', 'all__D_c', '4pasp_c', '2pg_c', '4per_c', 'all6p_c', '4ppan_c', '2pglyc_c', '4ppcys_c', 'alltn_c', 'alltt_c', '2sephchc_c', '4r5au_c', 'allul6p_c', '2shchc_c', 'altrn_c', '56dura_c', 'apg140_c', '5aizc_c', '5aop_c', '5aprbu_c', 'amet_c', 'ametam_c', 'amob_c', 'apg141_c', 'amp_c', '5apru_c', 'apg160_c', '5caiz_c', 'anhgm_c', 'apg161_c', 'anhgm3p_c', 'anhgm4p_c', 'anhm_c', '5dglcn_c', 'apg180_c', 'anhm3p_c', 'anhm4p_c', 'apg181_c', 'anth_c', 'ap4a_c', 'ap5a_c', 'apoACP_c', 'apg120_c', 'appl_c', 'aps_c', 'ara5p_c', 'arab__L_c', 'aragund_c', 'arbt6p_c', 'arbtn_c', 'arbtn_fe3_c', 'ethso3_c', 'crn__D_c', 'arg__L_c', 'crnDcoa_c', 'etoh_c', 'argsuc_c', 'f1p_c', 'crncoa_c', 'argtrna_c', 'csn_c', 'f6p_c', 'ascb6p_c', 'fad_c', 'ctbt_c', 'ctbtcoa_c', 'asn__L_c', 'ctp_c', 'fadh2_c', 'asntrna_c', 'fald_c', 'fc1p_c', 'cu_c', 'aso3_c', 'cu2_c', 'fcl__L_c', 'aso4_c', 'fdp_c', 'cyan_c', 'asp__L_c', 'cynt_c', 'fe2_c', 'aspsa_c', 'fe3_c', 'fe3dhbzs_c', 'cys__D_c', 'asptrna_c', 'cys__L_c', 'fe3hox_c', 'athr__L_c', 'fe3hox_un_c', 'cyst__L_c', 'athtp_c', 'cystrna_c', 'fecrm_c', 'atp_c', 'fecrm_un_c', 'feenter_c', 'cytd_c', 'dad_2_c', 'b2coa_c', 'dad_5_c', 'feoxam_c', 'bbtcoa_c', 'feoxam_un_c', 'fgam_c', 'dadp_c', 'betald_c', 'damp_c', 'flxr_c', 'bglycogen_c', 'flxso_c', 'dann_c', 'bmoco_c', 'datp_c', 'fmettrna_c', 'bmoco1gdp_c', 'fmn_c', 'db4p_c', 'bmocogdp_c', 'dc2coa_c', 'fmnh2_c', 'btal_c', 'for_c', 'dca_c', 'btcoa_c', 'dcaACP_c', 'forcoa_c', 'btn_c', 'fpram_c', 'dcacoa_c', 'btnso_c', 'dcamp_c', 'fprica_c', 'but_c', 'frdp_c', 'dcdp_c', 'dcmp_c', 'but2eACP_c', 'dctp_c', 'dcyt_c', 'fru_c', 'frulys_c', 'butACP_c', 'frulysp_c', 'dd2coa_c', 'butso3_c', 'ddca_c', 'fruur_c', 'bwco_c', 'fuc__L_c', 'fum_c', 'ddcaACP_c', 'bwco1gdp_c', 'ddcacoa_c', 'g1p_c', 'bwcogdp_c', 'g3p_c', 'ddcap_c', 'ca2_c', 'dgdp_c', 'g3pc_c', 'camp_c', 'g3pe_c', 'dgmp_c', 'cbasp_c', 'dgslnt_c', 'g3pg_c', 'cbi_c', 'g3pi_c', 'dgsn_c', 'cbl1_c', 'dgtp_c', 'g3ps_c', 'cbm_c', 'g6p_c', 'dha_c', 'cbp_c', 'dhap_c', 'cd2_c', 'dhcinnm_c', 'gagicolipa_c', 'gal_c', 'cddec5eACP_c', 'dhf_c', 'gal1p_c', 'cdec3eACP_c', 'galct__D_c', 'dhgly_c', 'cdg_c', 'dhmpt_c', 'galctn__D_c', 'cdp_c', 'galctn__L_c', 'dhmptp_c', 'cdpdddecg_c', 'dhna_c', 'galt1p_c', 'cdpdhdec9eg_c', 'galur_c', 'dhnpt_c', 'cdpdhdecg_c', 'dhor__S_c', 'gam1p_c', 'cdpdodec11eg_c', 'gam6p_c', 'dhpmp_c', 'cdpdodecg_c', 'dhpppn_c', 'gar_c', 'cdpdtdec7eg_c', 'garagund_c', 'dhpt_c', 'gbbtn_c', 'cdpdtdecg_c', 'gcald_c', 'dhptd_c', 'cechddd_c', 'dhptdn_c', 'gdp_c', 'cenchddd_c', 'gdpddman_c', 'didp_c', 'cgly_c', 'dimp_c', 'gdpfuc_c', 'chol_c', 'gdpmann_c', 'din_c', 'chor_c', 'gdpofuc_c', 'chtbs6p_c', 'gdptp_c', 'ditp_c', 'cinnm_c', 'dmbzid_c', 'gfgaragund_c', 'gg4abut_c', 'ggagicolipa_c', 'dmlz_c', 'dmpp_c', 'cit_c', 'dms_c', 'ggbutal_c', 'gggagicolipa_c', 'citr__L_c', 'ggptrc_c', 'dmso_c', 'ckdo_c', 'dnad_c', 'ghb_c', 'cl_c', 'gicolipa_c', 'dpcoa_c', 'cmp_c', 'dsbdox_c', 'glc__D_c', 'co2_c', 'glcn_c', 'dsbdrd_c', 'coa_c', 'dscl_c', 'glcr_c', 'cobalt2_c', 'glcur_c', 'dtbt_c', 'colipa_c', 'dtdp_c', 'gln__L_c', 'cpe160_c', 'glntrna_c', 'dtdp4aaddg_c', 'dtdp4addg_c', 'cpe180_c', 'dtdp4d6dg_c', 'glu__D_c', 'glu__L_c', 'cpg160_c', 'glu1sa_c', 'dtdp4d6dm_c', 'cpg180_c', 'dtdpglu_c', 'glu5p_c', 'cpgn_c', 'glu5sa_c', 'dtdprmn_c', 'cpgn_un_c', 'dtmp_c', 'glucys_c', 'cph4_c', 'glutrna_c', 'dttp_c', 'cpmp_c', 'dudp_c', 'glx_c', 'gly_c', 'cpppg3_c', 'glyald_c', 'dump_c', 'crn_c', 'duri_c', 'glyb_c', 'glyc2p_c', 'glyc_c', 'glyc__R_c', 'dutp_c', 'dxyl_c', 'dxyl5p_c', 'glyc3p_c', 'e4p_c', 'glyclt_c', 'egmeACP_c', 'glycogen_c', 'eig3p_c', 'glytrna_c', 'enter_c', 'lcts_c', 'gmeACP_c', 'leu__L_c', 'epmeACP_c', 'etha_c', 'gmhep17bp_c', 'leutrna_c', 'gmhep1p_c', 'lgt__S_c', 'gmhep7p_c', 'lipa_c', 'gmp_c', 'lipa_cold_c', 'gp4g_c', 'lipidA_c', 'lipidAds_c', 'grdp_c', 'lipidX_c', 'grxox_c', 'lipoamp_c', 'ocdcap_c', 'grxrd_c', 'ocdcea_c', 'ocdceap_c', 'octa_c', 'lipoate_c', 'lipopb_c', 'lys__L_c', 'gslnt_c', 'lystrna_c', 'lyx__L_c', 'octapb_c', 'octdp_c', 'gsn_c', 'octeACP_c', 'mal__D_c', 'gthox_c', 'mal__L_c', 'od2coa_c', 'gthrd_c', 'odecoa_c', 'malACP_c', 'gtp_c', 'malcoa_c', 'ogmeACP_c', 'gtspmd_c', 'ohpb_c', 'malcoame_c', 'gua_c', 'malt_c', 'malt6p_c', 'op4en_c', 'h_c', 'opmeACP_c', 'malthp_c', 'h2_c', 'malthx_c', 'orn_c', 'orot_c', 'maltpt_c', 'h2mb4p_c', 'orot5p_c', 'h2o_c', 'oxa_c', 'malttr_c', 'maltttr_c', 'h2o2_c', 'man_c', 'oxadpcoa_c', 'h2s_c', 'man1p_c', 'hco3_c', 'man6p_c', 'oxalcoa_c', 'hcys__L_c', 'oxam_c', 'man6pglyc_c', 'hdca_c', 'mana_c', 'mdhdhf_c', 'oxur_c', 'hdcap_c', 'pa120_c', 'melib_c', 'hdcea_c', 'meoh_c', 'pa140_c', 'hdceap_c', 'pa141_c', 'mercppyr_c', 'pa160_c', 'hdcoa_c', 'pa161_c', 'met__D_c', 'hdd2coa_c', 'met__L_c', 'methf_c', 'pa180_c', 'hdeACP_c', 'pa181_c', 'metsox_R__L_c', 'pac_c', 'hemeO_c', 'pacald_c', 'metsox_S__L_c', 'mettrna_c', 'hexACP_c', 'mg2_c', 'palmACP_c', 'hg2_c', 'pan4p_c', 'mi1p__D_c', 'hgmeACP_c', 'micit_c', 'pant__R_c', 'hhlipa_c', 'pap_c', 'mlthf_c', 'his__L_c', 'mmcoa__S_c', 'paps_c', 'hisp_c', 'pdx5p_c', 'mmet_c', 'mn2_c', 'histd_c', 'mnl1p_c', 'moadamp_c', 'pe120_c', 'pe140_c', 'pe141_c', 'histrna_c', 'pe160_c', 'moadcoo_c', 'moadcosh_c', 'pe161_c', 'hkndd_c', 'pe180_c', 'mobd_c', 'hkntd_c', 'moco_c', 'pe181_c', 'hlipa_c', 'pep_c', 'mococdp_c', 'mocogdp_c', 'hmbil_c', 'mpt_c', 'pg120_c', 'hmgth_c', 'pg140_c', 'mptamp_c', 'hom__L_c', 'mql8_c', 'pg141_c', 'hphhlipa_c', 'pg160_c', 'mqn8_c', 'pg161_c', 'hpmeACP_c', 'pg180_c', 'msa_c', 'mso3_c', 'hpyr_c', 'mthgxl_c', 'pg181_c', 'hqn_c', 'pgp120_c', 'mththf_c', 'hx2coa_c', 'myrsACP_c', 'pgp140_c', 'hxa_c', 'n2o_c', 'hxan_c', 'n8aspmd_c', 'na1_c', 'pgp141_c', 'hxcoa_c', 'pgp160_c', 'pgp161_c', 'na15dap_c', 'iasp_c', 'nac_c', 'pgp180_c', 'ichor_c', 'pgp181_c', 'nad_c', 'icit_c', 'nadh_c', 'phaccoa_c', 'icolipa_c', 'phe__L_c', 'nadp_c', 'nadph_c', 'idon__L_c', 'ncam_c', 'pheme_c', 'idp_c', 'phetrna_c', 'phhlipa_c', 'nh4_c', 'ile__L_c', 'ni2_c', 'phom_c', 'iletrna_c', 'phphhlipa_c', 'nicrnt_c', 'imacp_c', 'nmn_c', 'phpyr_c', 'imp_c', 'phthr_c', 'no_c', 'indole_c', 'no2_c', 'no3_c', 'pi_c', 'inost_c', 'pimACP_c', 'o16aund_c', 'pmeACP_c', 'ins_c', 'pmtcoa_c', 'pnto__R_c', 'o2_c', 'ipdp_c', 'o2s_c', 'poaac_c', 'iscs_c', 'ppa_c', 'oaa_c', 'oc2coa_c', 'ppal_c', 'iscssh_c', 'ppap_c', 'ocACP_c', 'iscu_c', 'occoa_c', 'ppbng_c', 'iscu_2fe2s_c', 'ppcoa_c', 'ocdca_c', 'iscu_2fe2s2_c', 'ocdcaACP_c', 'ppgpp_c', 'iscu_4fe4s_c', 'pphn_c', 'isetac_c', 'ppi_c', 'itp_c', 'ppp9_c', 'pro__L_c', 'pppg9_c', 'k_c', 'pppi_c', 'progly_c', 'kdo_c', 'protrna_c', 'pppn_c', 'kdo2lipid4_c', 'pram_c', 'prpp_c', 'ps120_c', 'kdo2lipid4L_c', 'ps140_c', 'pran_c', 'kdo2lipid4p_c', 'prbamp_c', 'ps141_c', 'kdo8p_c', 'ps160_c', 'prbatp_c', 'kdolipid4_c', 'preq0_c', 'ps161_c', 'kphphhlipa_c', 'ps180_c', 'preq1_c', 'lac__D_c', 'prfp_c', 'ps181_c', 'lac__L_c', 'psclys_c', 'prlp_c', 'pser__L_c', 'lald__D_c', 'ptrc_c', 'lald__L_c', 'pyam5p_c', 'ura_c', 'pydam_c', 'pydx_c', 'pydx5p_c', 'taur_c', 'tcynt_c', 'td2coa_c', 'tdcoa_c', 'uracp_c', 'tddec2eACP_c', 'pydxn_c', 'pyr_c', 'tdeACP_c', 'urate_c', 'tdec2eACP_c', 'q8_c', 'urdglyc_c', 'q8h2_c', 'tdecoa_c', 'urea_c', 'thdp_c', 'quin_c', 'uri_c', 'quln_c', 'r15bp_c', 'thex2eACP_c', 'utp_c', 'thf_c', 'r1p_c', 'val__L_c', 'r5p_c', 'thm_c', 'valtrna_c', 'thmmp_c', 'ragund_c', 'rbflvrd_c', 'thmnp_c', 'thmpp_c', 'rbl__L_c', 'wco_c', 'rdmbzi_c', 'thptdn_c', 'xan_c', 'thr__L_c', 'rephaccoa_c', 'xdp_c', 'rhcys_c', 'rib__D_c', 'thrtrna_c', 'xmp_c', 'xtp_c', 'ribflv_c', 'xtsn_c', 'rml_c', 'thym_c', 'xu5p__D_c', 'thymd_c', 'rml1p_c', 'xu5p__L_c', 'rmn_c', 'tma_c', 'xyl__D_c', 'tmao_c', 'ru5p__D_c', 'xylu__D_c', 'ru5p__L_c', 's17bp_c', 'tmrs2eACP_c', 'toct2eACP_c', 'xylu__L_c', 'toctd2eACP_c', 's7p_c', 'zn2_c', 'sarcs_c', 'tpalm2eACP_c', '12ppd__R_e', 'trdox_c', 'sbt6p_c', 'sbzcoa_c', '12ppd__S_e', 'scl_c', 'trdrd_c', '14glucan_e', 'tre_c', 'sectrna_c', '15dap_e', 'sel_c', 'tre6p_c', '23camp_e', 'trnaala_c', 'seln_c', '23ccmp_e', 'selnp_c', 'trnaarg_c', '23cgmp_e', 'trnaasn_c', 'ser__D_c', '23cump_e', 'ser__L_c', 'trnaasp_c', 'trnacys_c', '23dappa_e', 'seramp_c', '26dap__M_e', 'sertrna_c', 'sertrna_sec_c', 'trnagln_c', 'trnaglu_c', '2ddglcn_e', 'trnagly_c', 'sheme_c', '34dhpac_e', 'skm_c', 'trnahis_c', '3amp_e', 'trnaile_c', 'skm5p_c', 'sl26da_c', '3cmp_e', 'sl2a6o_c', 'trnaleu_c', '3gmp_e', 'trnalys_c', 'slnt_c', 'trnamet_c', '3hcinnm_e', 'trnaphe_c', 'so2_c', 'so3_c', '3hpp_e', 'so4_c', 'trnapro_c', '3hpppn_e', 'trnasecys_c', 'spmd_c', '3ump_e', 'stcoa_c', 'suc6p_c', 'trnaser_c', 'trnathr_c', '4abut_e', 'trnatrp_c', 'sucarg_c', '4hoxpacd_e', 'sucbz_c', 'trnatyr_c', '5dglcn_e', 'trnaval_c', 'trp__L_c', 'trptrna_c', 'succ_c', 'succoa_c', 'sucglu_c', '5mtr_e', 'sucgsa_c', 'suchms_c', 'tsul_c', 'LalaDglu_e', 'ttdca_c', 'ttdcap_c', 'sucorn_c', 'LalaDgluMdap_e', 'sucsal_c', 'ttdcea_c', 'LalaDgluMdapDala_e', 'ttdceap_c', 'sufbcd_c', 'sufbcd_2fe2s_c', 'LalaLglu_e', 'sufbcd_2fe2s2_c', 'tungs_c', 'tyr__L_c', 'ac_e', 'tyrtrna_c', 'sufbcd_4fe4s_c', 'sufse_c', 'acac_e', 'sufsesh_c', 'u23ga_c', 'acald_e', 'u3aga_c', 'sulfac_c', 'acgal_e', 't3c11vaceACP_c', 'u3hga_c', 'acgal1p_e', 'uLa4fn_c', 't3c5ddeceACP_c', 'acgam_e', 't3c7mrseACP_c', 'uLa4n_c', 'acgam1p_e', 'uaagmda_c', 't3c9palmeACP_c', 'acmana_e', 'tag6p__D_c', 'uaccg_c', 'acmum_e', 'uacgam_c', 'uacmam_c', 'tagdp__D_c', 'tagur_c', 'acnam_e', 'tartr__D_c', 'uacmamu_c', 'acolipa_e', 'uagmda_c', 'tartr__L_c', 'acser_e', 'uama_c', 'ade_e', 'adn_e', 'adocbl_e', 'uamag_c', 'ag_e', 'uamr_c', 'agm_e', 'udcpdp_c', 'akg_e', 'udcpp_c', 'ala_B_e', 'udp_c', 'ala__D_e', 'udpLa4fn_c', 'chtbs_e', 'ala__L_e', 'udpLa4n_c', 'alaala_e', 'udpLa4o_c', 'cit_e', 'all__D_e', 'cl_e', 'udpg_c', 'alltn_e', 'udpgal_c', 'cm_e', 'amp_e', 'cmp_e', 'udpgalfur_c', 'anhgm_e', 'udpglcur_c', 'co2_e', 'arab__L_e', 'cobalt2_e', 'colipa_e', 'ugmd_c', 'ugmda_c', 'um4p_c', 'colipap_e', 'arbt_e', 'cpgn_e', 'cpgn_un_e', 'ump_c', 'arbtn_e', 'unaga_c', 'unagamu_c', 'crn_e', 'arbtn_fe3_e', 'crn__D_e', 'unagamuf_c', 'arg__L_e', 'ascb__L_e', 'uppg3_c', 'csn_e', 'cu_e', 'asn__L_e', 'aso3_e', 'cu2_e', 'asp__L_e', 'cyan_e', 'btn_e', 'cynt_e', 'but_e', 'cys__D_e', 'glyb_e', 'butso3_e', 'glyc_e', 'cys__L_e', 'cytd_e', 'glyc__R_e', 'ca2_e', 'glyc2p_e', 'dad_2_e', 'cbi_e', 'damp_e', 'glyc3p_e', 'cbl1_e', 'glyclt_e', 'dca_e', 'cd2_e', 'dcmp_e', 'gmp_e', 'cgly_e', 'gsn_e', 'dcyt_e', 'chol_e', 'ddca_e', 'gthox_e', 'ppa_e', 'gthrd_e', 'gtp_e', 'gua_e', 'dgmp_e', 'dgsn_e', 'dha_e', 'dimp_e', 'ppal_e', 'din_e', 'h_e', 'pppn_e', 'h2_e', 'dms_e', 'ppt_e', 'dmso_e', 'h2o_e', 'h2o2_e', 'pro__L_e', 'h2s_e', 'dopa_e', 'progly_e', 'doxrbcn_e', 'dtmp_e', 'hacolipa_e', 'psclys_e', 'halipa_e', 'dump_e', 'pser__L_e', 'duri_e', 'hdca_e', 'eca4colipa_e', 'ptrc_e', 'hdcea_e', 'pydam_e', 'hg2_e', 'enlipa_e', 'enter_e', 'pydx_e', 'etha_e', 'his__L_e', 'pydxn_e', 'hom__L_e', 'ethso3_e', 'pyr_e', 'etoh_e', 'hxa_e', 'quin_e', 'hxan_e', 'f6p_e', 'r5p_e', 'fald_e', 'idon__L_e', 'rfamp_e', 'ile__L_e', 'fe2_e', 'rib__D_e', 'fe3_e', 'fe3dcit_e', 'imp_e', 'rmn_e', 'indole_e', 'fe3dhbzs_e', 'fe3hox_e', 'inost_e', 'sbt__D_e', 'ins_e', 'isetac_e', 'fe3hox_un_e', 'fecrm_e', 'sel_e', 'fecrm_un_e', 'k_e', 'ser__D_e', 'kdo2lipid4_e', 'feenter_e', 'ser__L_e', 'feoxam_e', 'lac__D_e', 'feoxam_un_e', 'skm_e', 'for_e', 'lac__L_e', 'slnt_e', 'lcts_e', 'fru_e', 'so2_e', 'frulys_e', 'leu__L_e', 'so3_e', 'lipa_e', 'fruur_e', 'so4_e', 'fuc__L_e', 'fum_e', 'lipa_cold_e', 'spmd_e', 'lipoate_e', 'fusa_e', 'succ_e', 'g1p_e', 'lys__L_e', 'sucr_e', 'lyx__L_e', 'g3pc_e', 'sulfac_e', 'g3pe_e', 'mal__D_e', 'tartr__D_e', 'mal__L_e', 'malt_e', 'g3pg_e', 'tartr__L_e', 'g3pi_e', 'g3ps_e', 'malthx_e', 'taur_e', 'maltpt_e', 'g6p_e', 'tcynt_e', 'gal_e', 'thm_e', 'gal_bD_e', 'malttr_e', 'maltttr_e', 'thr__L_e', 'man_e', 'gal1p_e', 'thrp_e', 'galct__D_e', 'man6p_e', 'thym_e', 'manglyc_e', 'galctn__D_e', 'thymd_e', 'galctn__L_e', 'galt_e', 'melib_e', 'tma_e', 'meoh_e', 'galur_e', 'tmao_e', 'gam_e', 'met__D_e', 'tre_e', 'met__L_e', 'gam6p_e', 'gbbtn_e', 'trp__L_e', 'gdp_e', 'metsox_R__L_e', 'tsul_e', 'metsox_S__L_e', 'glc__D_e', 'mg2_e', 'ttdca_e', 'mincyc_e', 'glcn_e', 'glcr_e', 'ttdcea_e', 'glcur_e', 'minohp_e', 'ttrcyc_e', 'mmet_e', 'glcur1p_e', 'tungs_e', 'gln__L_e', 'mn2_e', 'tym_e', 'mnl_e', 'glu__L_e', 'tyr__L_e', 'gly_e', 'mobd_e', 'glyald_e', 'tyrp_e', 'mso3_e', 'uacgam_e', 'n2o_e', 'udpacgal_e', 'na1_e', 'nac_e', 'nh4_e', '1ddecg3p_p', 'udpg_e', '1hdec9eg3p_p', 'ni2_e', 'udpgal_e', 'nmn_e', '1hdecg3p_p', 'udpglcur_e', '1odec11eg3p_p', 'no_e', 'ump_e', 'no2_e', '1odecg3p_p', 'ura_e', '1tdec7eg3p_p', 'no3_e', 'urea_e', 'novbcn_e', '1tdecg3p_p', 'uri_e', '23camp_p', 'o16a4colipa_e', 'val__L_e', 'o2_e', '23ccmp_p', '23cgmp_p', 'xan_e', '23cump_p', 'o2s_e', 'xmp_e', 'ocdca_e', '23dappa_p', 'ocdcea_e', 'xtsn_e', 'octa_e', '26dap__M_p', 'xyl__D_e', '2agpe120_p', '2agpe140_p', 'orn_e', 'xylu__L_e', 'orot_e', '2agpe141_p', 'zn2_e', '2agpe160_p', 'pacald_e', '12dgr120_p', 'peamn_e', '2agpe161_p', '12dgr140_p', '2agpe180_p', 'phe__L_e', '2agpe181_p', '12dgr141_p', '2agpg120_p', 'pheme_e', 'pi_e', '12dgr160_p', 'pnto__R_e', '2agpg140_p', '12dgr161_p', '2agpg141_p', '12dgr180_p', '2agpg160_p', '2agpg161_p', '12dgr181_p', '12ppd__R_p', '2agpg180_p', 'cbi_p', '12ppd__S_p', 'cbl1_p', '2agpg181_p', '2ddecg3p_p', '14glucan_p', '2ddglcn_p', 'cd2_p', '15dap_p', 'cgly_p', '2hdec9eg3p_p', '1agpe120_p', '2hdecg3p_p', 'chol_p', '1agpe140_p', 'chtbs_p', '2odec11eg3p_p', '1agpe141_p', '2odecg3p_p', 'cit_p', '1agpe160_p', 'cl_p', '2tdec7eg3p_p', '1agpe161_p', '2tdecg3p_p', '1agpe180_p', '34dhpac_p', '3amp_p', 'clpn120_p', 'clpn140_p', '1agpe181_p', 'clpn141_p', '3cmp_p', '3gmp_p', '1agpg120_p', '3hcinnm_p', 'clpn160_p', '1agpg140_p', 'clpn161_p', '3hpp_p', '1agpg141_p', '3hpppn_p', 'clpn180_p', 'clpn181_p', '1agpg160_p', 'cm_p', '3ump_p', '4abut_p', '1agpg161_p', '4hoxpacd_p', 'cmp_p', '1agpg180_p', 'co2_p', '5dglcn_p', '1agpg181_p', '5mtr_p', 'cobalt2_p', 'g6p_p', 'colipa_p', 'colipap_p', 'cpgn_p', 'LalaDglu_p', 'LalaDgluMdap_p', 'LalaDgluMdapDala_p', 'LalaLglu_p', 'gal_p', 'ac_p', 'acac_p', 'cpgn_un_p', 'crn_p', 'gal_bD_p', 'crn__D_p', 'acald_p', 'gal1p_p', 'acgal_p', 'csn_p', 'galct__D_p', 'acgal1p_p', 'galctn__D_p', 'acgam_p', 'ctbt_p', 'galctn__L_p', 'cu_p', 'acgam1p_p', 'galt_p', 'acmana_p', 'cu2_p', 'galur_p', 'cyan_p', 'acmum_p', 'gam_p', 'acnam_p', 'cynt_p', 'acolipa_p', 'gam6p_p', 'acser_p', 'cys__D_p', 'gbbtn_p', 'cys__L_p', 'ade_p', 'gdp_p', 'adn_p', 'cytd_p', 'glc__D_p', 'dad_2_p', 'adocbl_p', 'glcn_p', 'agm_p', 'akg_p', 'damp_p', 'glcr_p', 'dca_p', 'ala_B_p', 'glcur_p', 'ala__D_p', 'dcmp_p', 'glcur1p_p', 'dcyt_p', 'ala__L_p', 'ddca_p', 'alaala_p', 'gln__L_p', 'all__D_p', 'dgmp_p', 'glu__L_p', 'dgsn_p', 'alltn_p', 'gly_p', 'alpp_p', 'dha_p', 'glyald_p', 'dimp_p', 'amp_p', 'glyb_p', 'anhgm_p', 'anhgm3p_p', 'din_p', 'dms_p', 'glyc_p', 'dmso_p', 'dopa_p', 'anhgm4p_p', 'arab__L_p', 'glyc__R_p', 'arbt_p', 'doxrbcn_p', 'glyc2p_p', 'dsbaox_p', 'arbtn_p', 'glyc3p_p', 'arbtn_fe3_p', 'arg__L_p', 'dsbard_p', 'glyclt_p', 'dsbcox_p', 'ascb__L_p', 'gmp_p', 'asn__L_p', 'dsbcrd_p', 'gsn_p', 'dsbgox_p', 'aso3_p', 'gthox_p', 'asp__L_p', 'dsbgrd_p', 'btn_p', 'gthrd_p', 'but_p', 'dtmp_p', 'gtp_p', 'dump_p', 'butso3_p', 'gua_p', 'ca2_p', 'duri_p', 'h_p', 'eca2und_p', 'eca3und_p', 'h2_p', 'eca4colipa_p', 'h2o_p', 'eca4und_p', 'h2o2_p', 'enlipa_p', 'murein4p3p_p', 'h2s_p', 'murein4p4p_p', 'murein4px4p_p', 'enter_p', 'hdca_p', 'etha_p', 'murein4px4p4p_p', 'hdcea_p', 'murein4px4px4p_p', 'ethso3_p', 'etoh_p', 'hg2_p', 'f6p_p', 'murein5p3p_p', 'his__L_p', 'murein5p4p_p', 'fald_p', 'hom__L_p', 'fe2_p', 'murein5p5p_p', 'hxa_p', 'murein5p5p5p_p', 'fe3_p', 'hxan_p', 'fe3dcit_p', 'murein5px3p_p', 'murein5px4p_p', 'idon__L_p', 'murein5px4px4p_p', 'fe3dhbzs_p', 'fe3hox_p', 'ile__L_p', 'fe3hox_un_p', 'n2o_p', 'imp_p', 'na1_p', 'fecrm_p', 'indole_p', 'fecrm_un_p', 'nac_p', 'nh4_p', 'ni2_p', 'feenter_p', 'feoxam_p', 'inost_p', 'feoxam_un_p', 'nmn_p', 'no_p', 'ins_p', 'no2_p', 'for_p', 'isetac_p', 'fru_p', 'no3_p', 'k_p', 'novbcn_p', 'frulys_p', 'kdo2lipid4_p', 'fruur_p', 'o16a2und_p', 'lac__D_p', 'o16a3und_p', 'fuc__L_p', 'fum_p', 'lac__L_p', 'fusa_p', 'o16a4colipa_p', 'o16a4und_p', 'lcts_p', 'o16aund_p', 'leu__L_p', 'o2_p', 'g1p_p', 'lipa_p', 'g3pc_p', 'o2s_p', 'lipa_cold_p', 'ocdca_p', 'g3pe_p', 'lipoate_p', 'g3pg_p', 'ocdcea_p', 'octa_p', 'g3pi_p', 'lpp_p', 'g3ps_p', 'orn_p', 'lys__L_p', 'orot_p', 'lyx__L_p', 'pa120_p', 'mal__D_p', 'pa140_p', 'so3_p', 'mal__L_p', 'so4_p', 'pa141_p', 'malt_p', 'pa160_p', 'spmd_p', 'malthx_p', 'succ_p', 'pa161_p', 'maltpt_p', 'pa180_p', 'sucr_p', 'malttr_p', 'sulfac_p', 'pa181_p', 'maltttr_p', 'pacald_p', 'tartr__D_p', 'man_p', 'tartr__L_p', 'pe120_p', 'taur_p', 'man6p_p', 'tcynt_p', 'pe140_p', 'pe141_p', 'manglyc_p', 'pe160_p', 'thm_p', 'melib_p', 'thr__L_p', 'pe161_p', 'meoh_p', 'pe180_p', 'thrp_p', 'met__D_p', 'thym_p', 'pe181_p', 'met__L_p', 'peamn_p', 'thymd_p', 'metsox_R__L_p', 'tma_p', 'pg120_p', 'pg140_p', 'metsox_S__L_p', 'pg141_p', 'tmao_p', 'mg2_p', 'tre_p', 'pg160_p', 'mincyc_p', 'pg161_p', 'trp__L_p', 'minohp_p', 'tsul_p', 'ttdca_p', 'pg180_p', 'pg181_p', 'pgp120_p', 'mmet_p', 'pgp140_p', 'ttdcea_p', 'ttrcyc_p', 'mn2_p', 'tungs_p', 'pgp141_p', 'pgp160_p', 'mnl_p', 'pgp161_p', 'tym_p', 'mobd_p', 'tyr__L_p', 'pgp180_p', 'mso3_p', 'pgp181_p', 'tyrp_p', 'murein3p3p_p', 'uLa4n_p', 'phe__L_p', 'murein3px3p_p', 'pheme_p', 'uacgam_p', 'murein3px4p_p', 'udcpdp_p', 'pi_p', 'udcpp_p', 'udpacgal_p', 'udpg_p', 'udpgal_p', 'udpglcur_p', 'ump_p', 'unagamuf_p', 'ura_p', 'urea_p', 'uri_p', 'val__L_p', 'xan_p', 'xmp_p', 'xtsn_p', 'xyl__D_p', 'xylu__L_p', 'zn2_p', 'pnto__R_p', 'ppa_p', 'ppal_p', 'pppn_p', 'ppt_p', 'pro__L_p', 'progly_p', 'psclys_p', 'pser__L_p', 'ptrc_p', 'pydam_p', 'pydx_p', 'pydxn_p', 'pyr_p', 'quin_p', 'r5p_p', 'rfamp_p', 'rib__D_p', 'rmn_p', 'sbt__D_p', 'sel_p', 'ser__D_p', 'ser__L_p', 'skm_p', 'slnt_p', 'so2_p', 'C02882_c', 'C00001_c', 'C00145_c', 'C00014_c', 'C00022_c', 'C05729_c', 'C00037_c', 'C05726_c', 'C05727_c', 'C00033_c', 'C20732_c', 'C19702_c', 'C00097_c', 'C00002_c', 'C19703_c', 'C00020_c', 'C00013_c', 'C00024_c', 'C06717_c', 'C00010_c', 'C18235_c', 'C00003_c', 'C00058_c', 'C00004_c', 'C00080_c', 'C22238_c', 'C00061_c', 'C21147_c', 'C00007_c', 'C21148_c', 'C00005_c', 'C00006_c', 'C05416_c', 'C05417_c', 'C00587_c', 'C00230_c', 'C02666_c', 'C00406_c', 'C02225_c', 'C00100_c', 'C00036_c']\r\n",
      "Exchange:\r\n",
      "['EX_cm_e', 'EX_cmp_e', 'EX_co2_e', 'EX_cobalt2_e', 'EX_colipa_e', 'EX_glc__D_e', 'EX_glcn_e', 'EX_glcr_e', 'EX_colipap_e', 'EX_glcur_e', 'EX_glcur1p_e', 'EX_12ppd__R_e', 'EX_gln__L_e', 'EX_cpgn_e', 'EX_glu__L_e', 'EX_gly_e', 'EX_glyald_e', 'EX_glyb_e', 'EX_glyc_e', 'EX_12ppd__S_e', 'EX_14glucan_e', 'EX_cpgn_un_e', 'EX_15dap_e', 'EX_glyc__R_e', 'EX_glyc2p_e', 'EX_23camp_e', 'EX_23ccmp_e', 'EX_23cgmp_e', 'EX_23cump_e', 'EX_23dappa_e', 'EX_26dap__M_e', 'EX_glyc3p_e', 'EX_glyclt_e', 'EX_gmp_e', 'EX_gsn_e', 'EX_gthox_e', 'EX_gthrd_e', 'EX_gtp_e', 'EX_gua_e', 'EX_h_e', 'EX_h2_e', 'EX_h2o_e', 'EX_h2o2_e', 'EX_h2s_e', 'EX_hacolipa_e', 'EX_halipa_e', 'EX_hdca_e', 'EX_hdcea_e', 'EX_hg2_e', 'EX_his__L_e', 'EX_2ddglcn_e', 'EX_34dhpac_e', 'EX_3amp_e', 'EX_3cmp_e', 'EX_3gmp_e', 'EX_3hcinnm_e', 'EX_3hpp_e', 'EX_3hpppn_e', 'EX_hom__L_e', 'EX_hxa_e', 'EX_hxan_e', 'EX_idon__L_e', 'EX_3ump_e', 'EX_4abut_e', 'EX_4hoxpacd_e', 'EX_5dglcn_e', 'EX_5mtr_e', 'EX_LalaDglu_e', 'EX_ile__L_e', 'EX_imp_e', 'EX_indole_e', 'EX_inost_e', 'EX_ins_e', 'EX_isetac_e', 'EX_k_e', 'EX_LalaDgluMdap_e', 'EX_LalaDgluMdapDala_e', 'EX_LalaLglu_e', 'EX_kdo2lipid4_e', 'EX_ac_e', 'EX_crn_e', 'EX_acac_e', 'EX_acald_e', 'EX_lac__D_e', 'EX_lac__L_e', 'EX_crn__D_e', 'EX_lcts_e', 'EX_acgal_e', 'EX_acgal1p_e', 'EX_acgam_e', 'EX_leu__L_e', 'EX_csn_e', 'EX_acgam1p_e', 'EX_acmana_e', 'EX_acmum_e', 'EX_lipa_e', 'EX_cu_e', 'EX_lipa_cold_e', 'EX_acnam_e', 'EX_acolipa_e', 'EX_cu2_e', 'EX_acser_e', 'EX_ade_e', 'EX_adn_e', 'EX_adocbl_e', 'EX_ag_e', 'EX_lipoate_e', 'EX_lys__L_e', 'EX_lyx__L_e', 'EX_mal__D_e', 'EX_agm_e', 'EX_akg_e', 'EX_cyan_e', 'EX_ala_B_e', 'EX_ala__D_e', 'EX_ala__L_e', 'EX_alaala_e', 'EX_all__D_e', 'EX_alltn_e', 'EX_amp_e', 'EX_anhgm_e', 'EX_arab__L_e', 'EX_mal__L_e', 'EX_malt_e', 'EX_malthx_e', 'EX_maltpt_e', 'EX_malttr_e', 'EX_maltttr_e', 'EX_man_e', 'EX_cynt_e', 'EX_man6p_e', 'EX_manglyc_e', 'EX_melib_e', 'EX_cys__D_e', 'EX_meoh_e', 'EX_met__D_e', 'EX_arbt_e', 'EX_arbtn_e', 'EX_arbtn_fe3_e', 'EX_met__L_e', 'EX_cys__L_e', 'EX_metsox_R__L_e', 'EX_metsox_S__L_e', 'EX_mg2_e', 'EX_mincyc_e', 'EX_minohp_e', 'EX_mmet_e', 'EX_arg__L_e', 'EX_ascb__L_e', 'EX_asn__L_e', 'EX_aso3_e', 'EX_asp__L_e', 'EX_btn_e', 'EX_but_e', 'EX_mn2_e', 'EX_mnl_e', 'EX_mobd_e', 'EX_mso3_e', 'EX_n2o_e', 'EX_na1_e', 'EX_nac_e', 'EX_nh4_e', 'EX_butso3_e', 'EX_ca2_e', 'EX_cbi_e', 'EX_cytd_e', 'EX_cbl1_e', 'EX_cd2_e', 'EX_cgly_e', 'EX_ni2_e', 'EX_nmn_e', 'EX_no_e', 'EX_no2_e', 'EX_no3_e', 'EX_novbcn_e', 'EX_o16a4colipa_e', 'EX_o2_e', 'EX_o2s_e', 'EX_ocdca_e', 'EX_ocdcea_e', 'EX_octa_e', 'EX_orn_e', 'EX_orot_e', 'EX_pacald_e', 'EX_peamn_e', 'EX_phe__L_e', 'EX_pheme_e', 'EX_chol_e', 'EX_chtbs_e', 'EX_cit_e', 'EX_cl_e', 'EX_pi_e', 'EX_dad_2_e', 'EX_pnto__R_e', 'EX_ppa_e', 'EX_damp_e', 'EX_ppal_e', 'EX_dca_e', 'EX_pppn_e', 'EX_ppt_e', 'EX_dcmp_e', 'EX_pro__L_e', 'EX_dcyt_e', 'EX_progly_e', 'EX_psclys_e', 'EX_ddca_e', 'EX_pser__L_e', 'EX_ptrc_e', 'EX_dgmp_e', 'EX_dgsn_e', 'EX_val__L_e', 'EX_xan_e', 'EX_dha_e', 'EX_xmp_e', 'EX_dimp_e', 'EX_din_e', 'EX_xtsn_e', 'EX_pydam_e', 'EX_xyl__D_e', 'EX_xylu__L_e', 'EX_zn2_e', 'EX_pydx_e', 'EX_pydxn_e', 'EX_pyr_e', 'EX_quin_e', 'EX_r5p_e', 'EX_rfamp_e', 'EX_rib__D_e', 'EX_rmn_e', 'EX_sbt__D_e', 'EX_sel_e', 'EX_ser__D_e', 'EX_ser__L_e', 'EX_skm_e', 'EX_dms_e', 'EX_slnt_e', 'EX_so2_e', 'EX_so3_e', 'EX_dmso_e', 'EX_so4_e', 'EX_spmd_e', 'EX_succ_e', 'EX_sucr_e', 'EX_sulfac_e', 'EX_tartr__D_e', 'EX_dopa_e', 'EX_tartr__L_e', 'EX_taur_e', 'EX_tcynt_e', 'EX_doxrbcn_e', 'EX_thm_e', 'EX_thr__L_e', 'EX_dtmp_e', 'EX_thrp_e', 'EX_thym_e', 'EX_dump_e', 'EX_thymd_e', 'EX_tma_e', 'EX_duri_e', 'EX_tmao_e', 'EX_tre_e', 'EX_trp__L_e', 'EX_tsul_e', 'EX_eca4colipa_e', 'EX_ttdca_e', 'EX_ttdcea_e', 'EX_enlipa_e', 'EX_ttrcyc_e', 'EX_enter_e', 'EX_etha_e', 'EX_tungs_e', 'EX_tym_e', 'EX_ethso3_e', 'EX_tyr__L_e', 'EX_tyrp_e', 'EX_uacgam_e', 'EX_udpacgal_e', 'EX_udpg_e', 'EX_udpgal_e', 'EX_etoh_e', 'EX_udpglcur_e', 'EX_ump_e', 'EX_f6p_e', 'EX_ura_e', 'EX_urea_e', 'EX_fald_e', 'EX_uri_e', 'EX_fe2_e', 'EX_fe3_e', 'EX_fe3dcit_e', 'EX_fe3dhbzs_e', 'EX_fe3hox_e', 'EX_fe3hox_un_e', 'EX_fecrm_e', 'EX_fecrm_un_e', 'EX_feenter_e', 'EX_feoxam_e', 'EX_feoxam_un_e', 'EX_for_e', 'EX_fru_e', 'EX_frulys_e', 'EX_fruur_e', 'EX_fuc__L_e', 'EX_fum_e', 'EX_fusa_e', 'EX_g1p_e', 'EX_g3pc_e', 'EX_g3pe_e', 'EX_g3pg_e', 'EX_g3pi_e', 'EX_g3ps_e', 'EX_g6p_e', 'EX_gal_e', 'EX_gal_bD_e', 'EX_gal1p_e', 'EX_galct__D_e', 'EX_galctn__D_e', 'EX_galctn__L_e', 'EX_galt_e', 'EX_galur_e', 'EX_gam_e', 'EX_gam6p_e', 'EX_gbbtn_e', 'EX_gdp_e']\r\n",
      "Demand:\r\n",
      "['DM_4crsol_c', 'DM_5drib_c', 'DM_aacald_c', 'DM_amob_c', 'DM_mththf_c', 'DM_oxam_c']\r\n",
      "Sinks:\r\n",
      "['SK_C00145_c', 'SK_C00014_c', 'SK_C00022_c', 'SK_C02882_c', 'SK_C00001_c', 'SK_C00037_c', 'SK_C05729_c', 'SK_C05726_c', 'SK_C00033_c', 'SK_C05727_c', 'SK_C19702_c', 'SK_C20732_c', 'SK_C19703_c', 'SK_C00020_c', 'SK_C00013_c', 'SK_C00097_c', 'SK_C00002_c', 'SK_C06717_c', 'SK_C00010_c', 'SK_C00024_c', 'SK_C00058_c', 'SK_C00004_c', 'SK_C00080_c', 'SK_C18235_c', 'SK_C00003_c', 'SK_C00061_c', 'SK_C22238_c', 'SK_C21148_c', 'SK_C21147_c', 'SK_C00007_c', 'SK_C00006_c', 'SK_C00005_c', 'SK_C05417_c', 'SK_C05416_c', 'SK_C00230_c', 'SK_C00587_c', 'SK_C00406_c', 'SK_C02666_c', 'SK_C00100_c', 'SK_C00036_c', 'SK_C02225_c']\r\n",
      "Genes:\r\n",
      "['b1377', 'b0241', 'b0929', 'b2215', 'b0653', 'b0655', 'b0118', 'b1276', 'b4032', 'b3359', 'b3528', 'b4033', 'b4035', 'b4034', 'b4036', 'b4213', 'b4123', 'b2835', 'b4138', 'b4077', 'b3503', 'b1064', 'b1747', 'b1539', 'b1748', 'b1090', 'b3475', 'b2836', 'b2563', 'b3553', 'b2578', 'b1533', 'b2019', 'b1134', 'b3735', 'b4067', 'b0446', 'b1623', 'b1096', 'b3739', 'b3732', 'b3737', 'b3733', 'b3734', 'b3738', 'b1009', 'b1812', 'b0180', 'b3360', 'b3731', 'b3736', 'b0954', 'b3665', 'b0347', 'b3654', 'b0312', 'b3580', 'b3714', 'b1093', 'b1095', 'b2323', 'b0474', 'b0120', 'b0827', 'b1397', 'b3857', 'b3856', 'b4214', 'b3806', 'b1245', 'b0030', 'b3551', 'b1246', 'b0775', 'b1329', 'b0933', 'b2393', 'b1247', 'b1244', 'b1386', 'b0366', 'b0367', 'b0004', 'b0934', 'b0365', 'b0936', 'b1192', 'b1216', 'b1243', 'b4266', 'b4132', 'b4265', 'b0159', 'b3942', 'b2708', 'b1732', 'b2964', 'b3197', 'b2406', 'b0411', 'b3196', 'b1094', 'b4481', 'b1270', 'b1927', 'b2874', 'b1992', 'b0158', 'b3571', 'b1709', 'b0323', 'b2901', 'b0521', 'b0032', 'b1711', 'b2662', 'b3966', 'b1252', 'b0033', 'b1302', 'b0444', 'b3006', 'b3005', 'b1444', 'b3397', 'b3469', 'b2663', 'b3915', 'b2221', 'b0752', 'b3034', 'b2222', 'b0469', 'b3040', 'b2224', 'b2750', 'b2342', 'b1131', 'b3918', 'b3845', 'b2794', 'b2223', 'b1208', 'b4177', 'b0351', 'b0677', 'b1661', 'b1241', 's0001', 'b2130', 'b2129', 'b2128', 'b2131', 'b0314', 'b1801', 'b0311', 'b2599', 'b2600', 'b2329', 'b4039', 'b2539', 'b2538', 'b2540', 'b2542', 'b0110', 'b4169', 'b2435', 'b2817', 'b1107', 'b0433', 'b3619', 'b2937', 'b3018', 'b3958', 'b0574', 'b0572', 'b0573', 'b1463', 'b0575', 'b4006', 'b0614', 'b0616', 'b0522', 'b1993', 'b0523', 'b0617', 'b0185', 'b0615', 'b0612', 'b1249', 'b0727', 'b2316', 'b0726', 'b0116', 'b0789', 'b3256', 'b2587', 'b3255', 'b1488', 'b1592', 'b0155', 'b4069', 'b3035', 'b3542', 'b1119', 'b1487', 'b3541', 'b1485', 'b3543', 'b0463', 'b3784', 'b2470', 'b0462', 'b3816', 'b1484', 'b1486', 'b3544', 'b1483', 'b3540', 'b2416', 'b0092', 'b0381', 'b1325', 'b4053', 'b2174', 'b0914', 'b1102', 'b2765', 'b1101', 'b0783', 'b1190', 'b2415', 'b0870', 'b2417', 'b2551', 'b0781', 'b2436', 'b0679', 'b3867', 'b2290', 'b3959', 'b2379', 'b0038', 'b2818', 'b0037', 'b2697', 'b3457', 'b0036', 'b2677', 'b3670', 'b2678', 'b2679', 'b3460', 'b3456', 'b3455', 'b3454', 'b3671', 'b4208', 'b4111', 'b0040', 'b0078', 'b0720', 'b0007', 'b0077', 'b0337', 'b1849', 'b0336', 'b3846', 'b0356', 'b1478', 'b3115', 'b1385', 'b2296', 'b1300', 'b2428', 'b3588', 'b2780', 'b3794', 'b4084', 'b1819', 'b1817', 'b4090', 'b0123', 'b0484', 'b1818', 'b0516', 'b2429', 'b3425', 'b3224', 'b1308', 'b0340', 'b0341', 'b0512', 'b0511', 'b4085', 'b4088', 'b4311', 'b4087', 'b4086', 'b1677', 'b1919', 'b3008', 'b3225', 'b0221', 'b3708', 'b2421', 'b0657', 'b3001', 'b1091', 'b1781', 'b2414', 'b3957', 'b2810', 'b3201', 'b1622', 'b0207', 'b4261', 'b3012', 'b0526', 'b0886', 'b3945', 'b4262', 'b0887', 'b3200', 'b3091', 'b3199', 'b1519', 'b3416', 'b3223', 'b0979', 'b0978', 'b1587', 'b0734', 'b0733', 'b0429', 'b3222', 'b0774', 'b3833', 'b3994', 'b0896', 'b1982', 'b0430', 'b0432', 'b0894', 'b0431', 'b2523', 'b1872', 'b0932', 'b2143', 'b1873', 'b2162', 'b0237', 'b0099', 'b4260', 'b0651', 'b1865', 'b2066', 'b1640', 'b1263', 'b3575', 'b1264', 'b0776', 'b0910', 'b3603', 'b0103', 'b2975', 'b0049', 'b4129', 'b3774', 'b0121', 'b3059', 'b1189', 'b4042', 'b2871', 'b0425', 'b2838', 'b0968', 'b4381', 'b0414', 'b0062', 'b3809', 'b1185', 'b0175', 'b3041', 'b0778', 'b0152', 'b0153', 'b0151', 'b3860', 'b2893', 'b3722', 'b1734', 'b2582', 'b2065', 'b2344', 'b2715', 'b3781', 'b1900', 'b4136', 'b4460', 'b3693', 'b3909', 'b0604', 'b3526', 'b2601', 'b1901', 'b2841', 'b4122', 'b0754', 'b1528', 'b1098', 'b1704', 'b2147', 'b4477', 'b4115', 'b2146', 'b4117', 'b3648', 'b1238', 'b1393', 'b2938', 'b1605', 'b4382', 'b3960', 'b3771', 'b4384', 'b1199', 'b3172', 'b3640', 'b1876', 'b1200', 'b1198', 'b2251', 'b0596', 'b0594', 'b2541', 'b2306', 'b2308', 'b0173', 'b0861', 'b0348', 'b0420', 'b0031', 'b2307', 'b2310', 'b3564', 'b0864', 'b0860', 'b0862', 'b0863', 'b2478', 'b1606', 'b1779', 'b0048', 'b2923', 'b2927', 'b2315', 'b1288', 'b3930', 'b3433', 'b4192', 'b3622', 'b4195', 'b4193', 'b2262', 'b0736', 'b4194', 'b3793', 'b3785', 'b3058', 'b3792', 'b0945', 'b1767', 'b0828', 'b2341', 'b1850', 'b2957', 'b1062', 'b1851', 'b3177', 'b0674', 'b1054', 'b3744', 'b0930', 'b0578', 'b2303', 'b1855', 'b3389', 'b1453', 'b3502', 'b2378', 'b0131', 'b1693', 'b0421', 'b2779', 'b0029', 'b2232', 'b4244', 'b4245', 'b0583', 'b4024', 'b1590', 'b1588', 'b1589', 'b0585', 'b0895', 'b0002', 'b2441', 'b3940', 'b2440', 'b2574', 'b2500', 'b0825', 'b1415', 'b4139', 'b0928', 'b3946', 'b1866', 'b0652', 'b0822', 'b0654', 'b2052', 'b2784', 'b3666', 'b3650', 'b0404', 'b2051', 'b3747', 'b0452', 'b0842', 'b2467', 'b3729', 'b1298', 'b1805', 'b1301', 'b1297', 'b1701', 'b3882', 'b0047', 'b3844', 'b3350', 'b3432', 'b2763', 'b0459', 'b0308', 'b0306', 'b0307', 'b2764', 'b3605', 'b0837', 'b0124', 'b2925', 'b3415', 'b2257', 'b1773', 'b0344', 'b2132', 'b4476', 'b3428', 'b1326', 'b2097', 'b4130', 'b3417', 'b3925', 'b3126', 'b2787', 'b3496', 'b4232', 'b1634', 'b2788', 'b3429', 'b2930', 'b3631', 'b3627', 'b3626', 'b0709', 'b2799', 'b2802', 'b0070', 'b1621', 'b3431', 'b3430', 'b2803', 'b2170', 'b2800', 'b3870', 'b2738', 'b0680', 'b0343', 'b0475', 'b1380', 'b2133', 'b0810', 'b3892', 'b0809', 'b4054', 'b0642', 'b1475', 'b3458', 'b0811', 'b1474', 'b3894', 'b2091', 'b1651', 'b1476', 'b3893', 'b0242', 'b0935', 'b0622', 'b3409', 'b4386', 'b1492', 'b2688', 'b0630', 'b2392', 'b0628', 'b1493', 'b4289', 'b3517', 'b0182', 'b4288', 'b0494', 'b1761', 'b1524', 'b4287', 'b0485', 'b2312', 'b3825', 'b4131', 'b4290', 'b0186', 'b3967', 'b4291', 'b0589', 'b3213', 'b2890', 'b3212', 'b0588', 'b1210', 'b2156', 'b0590', 'b2400', 'b0592', 'b3903', 'b2155', 'b3907', 'b3653', 'b0507', 'b3927', 'b0805', 'b3617', 'b3600', 'b0777', 'b1800', 'b0150', 'b2976', 'b2240', 'b0514', 'b0584', 'b3124', 'b0591', 'b4014', 'b4367', 'b2049', 'b2903', 'b2904', 'b2905', 'b4209', 'b2490', 'b1033', 'b1613', 'b4323', 'b2979', 'b2481', 'b4467', 'b0731', 'b2485', 'b0732', 'b0334', 'b4468', 'b3926', 'b2720', 'b0212', 'b3560', 'b0331', 'b0333', 'b1092', 'b3559', 'b2721', 'b2053', 'b2521', 'b2723', 'b0635', 'b2484', 'b3396', 'b3052', 'b2488', 'b0200', 'b2487', 'b0104', 'b0084', 'b2724', 'b2486', 'b4079', 'b0149', 'b0632', 'b0839', 'b2507', 'b2029', 'b2722', 'b4268', 'b3182', 'b2483', 'b3437', 'b2489', 'b2482', 'b2010', 'b2719', 'b2134', 'b3449', 'b3924', 'b2239', 'b2328', 'b2895', 'b3236', 'b1654', 'b0684', 'b0849', 'b2210', 'b1479', 'b3288', 'b2463', 'b3610', 'b0477', 'b0025', 'b2988', 'b2515', 'b0937', 'b2746', 'b4120', 'b2747', 'b3500', 'b1710', 'b2912', 'b3447', 'b0829', 'b0830', 'b0831', 'b2942', 'b0199', 'b0198', 'b0197', 'b4019', 'b3829', 'b2374', 'b4219', 'b1778', 'b0832', 'b2947', 'b2492', 'b2153', 'b0904', 'b2114', 'b1277', 'b4154', 'b3779', 'b4242', 'b0963', 'b0403', 'b4153', 'b1193', 'b2883', 'b4152', 'b0125', 'b4151', 'b0238', 'b2558', 'b2168', 'b2813', 'b3092', 'b3371', 'b3875', 'b4392', 'b2701', 'b2963', 'b4474', 'b0957', 'b3374', 'b2919', 'b3370', 'b1319', 'b4321', 'b0875', 'b0260', 'b2917', 'b3599', 'b1395', 'b2167', 'b4040', 'b4322', 'b2169', 'b0784', 'b0353', 'b1232', 'b0126', 'b0339', 'b0261', 'b3633', 'b3624', 'b2801', 'b3917', 'b0428', 'b3630', 'b1611', 'b3625', 'b3621', 'b0764', 'b1612', 'b3620', 'b0621', 'b3632', 'b3623', 'b2423', 'b0765', 'b3730', 'b2424', 'b2425', 'b2104', 'b1002', 'b2388', 'b0763', 'b2422', 'b3789', 'b2877', 'b0394', 'b2039', 'b2020', 'b2022', 'b0134', 'b0009', 'b2519', 'b1069', 'b0154', 'b2514', 'b2533', 'b2309', 'b0112', 'b0785', 'b0826', 'b1008', 'b0349', 'b4055', 'b3805', 'b0529', 'b4041', 'b3941', 'b2418', 'b2103', 'b1059', 'b3451', 'b3996', 'b3824', 'b3450', 'b0813', 'b0352', 'b2411', 'b3452', 'b1109', 'b3453', 'b2288', 'b0142', 'b3608', 'b0508', 'b3426', 'b0003', 'b4013', 'b2278', 'b2277', 'b2241', 'b2287', 'b2284', 'b2021', 'b2243', 'b2282', 'b2868', 'b2286', 'b2242', 'b2279', 'b2866', 'b0243', 'b2867', 'b2280', 'b0678', 'b0974', 'b1852', 'b2276', 'b3128', 'b2283', 'b2285', 'b2995', 'b2996', 'b2281', 'b4358', 'b2615', 'b0973', 'b2997', 'b2994', 'b0972', 'b4478', 'b2530', 'b2529', 'b4356', 'b3807', 'b3028', 'b3691', 'b1740', 'b1603', 'b2528', 'b3127', 'b1136', 'b2789', 'b2265', 'b1602', 'b2045', 'b3962', 'b0931', 'b1186', 'b0593', 'b0595', 'b4015', 'b0019', 'b0757', 'b2518', 'b0451', 'b4267', 'b2025', 'b2023', 'b0756', 'b1262', 'b2710', 'b4119', 'b2711', 'b3770', 'b0026', 'b3628', 'b3476', 'b0401', 'b2093', 'b2508', 'b3477', 'b3478', 'b3480', 'b2094', 'b3479', 'b2092', 'b4390', 'b3265', 'b3266', 'b3093', 'b0639', 'b0751', 'b3161', 'b1236', 'b1768', 'b4485', 'b1991', 'b3679', 'b4231', 'b0109', 'b4230', 'b2889', 'b2148', 'b0073', 'b1223', 'b2150', 'b3367', 'b2149', 'b0072', 'b0071', 'b4227', 'b0074', 'b2203', 'b2943', 'b2202', 'b2205', 'b0918', 'b3198', 'b2206', 'b0160', 'b2204', 'b1225', 'b1215', 'b4196', 'b3581', 'b0698', 'b1466', 'b1465', 'b1467', 'b0696', 'b3366', 'b0697', 'b4513', 'b1468', 'b1226', 'b3365', 'b1224', 'b4071', 'b1227', 'b1363', 'b4072', 'b3849', 'b1469', 'b3290', 'b4073', 'b2552', 'b2744', 'b4070', 'b1291', 'b2027', 'b1250', 'b4374', 'b2035', 'b2291', 'b2033', 'b0480', 'b2037', 'b2034', 'b2032', 'b4161', 'b2751', 'b0902', 'b2752', 'b2705', 'b0650', 'b4394', 'b0980', 'b2702', 'b2781', 'b2579', 'b2704', 'b2703', 'b3114', 'b2472', 'b2954', 'b0903', 'b0273', 'b1759', 'b3591', 'b1764', 'b2264', 'b0586', 'b3607', 'b4254', 'b3187', 'b2366', 'b4471', 'b0907', 'b0662', 'b2797', 'b1281', 'b1814', 'b2907', 'b0893', 'b0350', 'b3116', 'b3843', 'b2796', 'b2311', 'b3835', 'b3089', 'b2965', 'b0355', 'b2154', 'b0693', 'b1744', 'b1746', 'b3642', 'b2263', 'b2373', 'b1387', 'b3368', 'b1394', 'b1014', 'b3281', 'b3390', 'b0388', 'b3939', 'b0386', 'b1388', 'b1981', 'b1389', 'b1206', 'b1392', 'b1584', 'b1390', 'b1600', 'b1391', 'b1599', 'b3908', 'b1398', 'b1656', 'b1646', 'b1525', 'b0133', 'b1278', 'b2661', 'b2260', 'b0087', 'b2261', 'b2762', 'b0722', 'b0723', 'b1489', 'b0724', 'b0721', 'b0115', 'b0729', 'b0728', 'b0114', 'b1521', 'b1638', 'b2464', 'b0052', 'b0008', 'b3062', 'b2564', 'b3061', 'b3063', 'b0368', 'b0766', 'b3790', 'b3791', 'b2320', 'b2038', 'b3546', 'b2040', 'b2041', 'b3916', 'b3788', 'b1723', 'b0915', 'b3951', 'b3137', 'b3132', 'b2095', 'b3952', 'b2096', 'b3176', 'b2913', 'b0166', 'b4025', 'b2480', 'b0068', 'b2926', 'b0066', 'b0767', 'b0067', 'b3385', 'b3616', 'b3772', 'b4395', 'b3117', 'b0755', 'b3612', 'b1719', 'b3823', 'b2690', 'b3992', 'b0688', 'b0418', 'b3990', 'b1912', 'b0423', 'b4407', 'b2198', 'b2200', 'b2201', 'b2935', 'b2199', 'b2197', 'b2465', 'b1713', 'b1714', 'b0576', 'b0996', 'b0997', 'b1473', 'b3493', 'b2827', 'b1106', 'b2987', 'b0417', 'b3993', 'b3725', 'b3919', 'b3726', 'b0613', 'b3727', 'b0888', 'b3728', 'b4239', 'b3821', 'b2048', 'b1897', 'b3412', 'b1896', 'b3974', 'b3519', 'b1197', 'b4240', 'b3258', 'b1010', 'b1260', 'b1378', 'b1261', 'b0871', 'b3384', 'b3709', 'b4226', 'b3125', 'b0509', 'b2502', 'b3991', 'b1015', 'b1637', 'b0369', 'b1907', 'b3956', 'b0179', 'b3639', 'b3403', 'b0085', 'b3787', 'b2920', 'b3786', 'b0181', 'b2501', 'b3189', 'b4383', 'b3380', 'b0090', 'b0088', 'b0091', 'b3972', 'b3850', 'b3057', 'b0841', 'b2536', 'b0174', 'b1702', 'b0759', 'b0383', 'b2036', 'b4005', 'b2028', 'b2255', 'b2499', 'b2253', 'b2026', 'b0758', 'b2476', 'b2557', 'b0505', 'b2024', 'b0086', 'b0194', 'b0096', 'b2258', 'b4544', 'b1207', 'b0908', 'b4233', 'b4160', 'b0171', 'b2256', 'b4388', 'b2254', 'b2585', 'b3803', 'b3804', 'b2297', 'b2458', 'b3997', 'b3634', 'b2498', 'b0692', 'b1011', 'b3073', 'b2497', 'b1006', 'b0517', 'b1124', 'b0524', 'b1123', 'b4258', 'b0857', 'b2682', 'b1442', 'b2683', 'b1443', 'b0856', 'b3572', 'b1441', 'b4197', 'b0855', 'b2882', 'b1126', 'b3565', 'b3579', 'b0854', 'b3578', 'b1440', 'b3577', 'b1125', 'b3567', 'b1296', 'b3566', 'b2407', 'b3568', 'b4031', 'b1636', 'b3826', 'b1858', 'b1676', 'b1859', 'b1857', 'b1854', 'b3831', 'b1012', 'b1007', 'b3029', 'b1692', 'b0750', 'b4094', 'b1662', 'b0415', 'b3752', 'b0063', 'b0061', 'b4198', 'b3583', 'b3629', 'b2687', 'b3749', 'b3750', 'b3751', 'b3748', 'b3904', 'b3902', 'b2234', 'b2235', 'b2676', 'b2675', 'b4238', 'b4237', 'b3386', 'b4301', 'b2914', 'b0638', 'b1679', 'b1682', 'b1681', 'b1680', 'b1683', 'b1684', 'b0222', 'b1745', 'c3742', 'c3407', 'c2014', 'c1175', 'c0452']\r\n",
      "Groups:\r\n",
      "['Propanoyl-CoA-PWY']\r\n",
      "\r\n",
      "New:\r\n",
      "Reactions:\r\n",
      "['R12188_c', 'R12514_c', 'R04951_c', 'R10553_c', 'R10617_c', 'R09591_c', 'R09622_c', 'R10301_c', 'R12539_c', 'R11156_c', 'R11157_c', 'R04789_c', 'R01628_c', 'R02193_c', 'R00931_c']\r\n",
      "Metabolites:\r\n",
      "['C02882_c', 'C00001_c', 'C00145_c', 'C00014_c', 'C00022_c', 'C05729_c', 'C00037_c', 'C05726_c', 'C05727_c', 'C00033_c', 'C20732_c', 'C19702_c', 'C00097_c', 'C00002_c', 'C19703_c', 'C00020_c', 'C00013_c', 'C00024_c', 'C06717_c', 'C00010_c', 'C18235_c', 'C00003_c', 'C00058_c', 'C00004_c', 'C00080_c', 'C22238_c', 'C00061_c', 'C21147_c', 'C00007_c', 'C21148_c', 'C00005_c', 'C00006_c', 'C05416_c', 'C05417_c', 'C00587_c', 'C00230_c', 'C02666_c', 'C00406_c', 'C02225_c', 'C00100_c', 'C00036_c']\r\n",
      "Exchange:\r\n",
      "[]\r\n",
      "Demand:\r\n",
      "[]\r\n",
      "Sinks:\r\n",
      "['SK_C00145_c', 'SK_C00014_c', 'SK_C00022_c', 'SK_C02882_c', 'SK_C00001_c', 'SK_C00037_c', 'SK_C05729_c', 'SK_C05726_c', 'SK_C00033_c', 'SK_C05727_c', 'SK_C19702_c', 'SK_C20732_c', 'SK_C19703_c', 'SK_C00020_c', 'SK_C00013_c', 'SK_C00097_c', 'SK_C00002_c', 'SK_C06717_c', 'SK_C00010_c', 'SK_C00024_c', 'SK_C00058_c', 'SK_C00004_c', 'SK_C00080_c', 'SK_C18235_c', 'SK_C00003_c', 'SK_C00061_c', 'SK_C22238_c', 'SK_C21148_c', 'SK_C21147_c', 'SK_C00007_c', 'SK_C00006_c', 'SK_C00005_c', 'SK_C05417_c', 'SK_C05416_c', 'SK_C00230_c', 'SK_C00587_c', 'SK_C00406_c', 'SK_C02666_c', 'SK_C00100_c', 'SK_C00036_c', 'SK_C02225_c']\r\n",
      "Genes:\r\n",
      "['c3742', 'c3407', 'c2014', 'c1175', 'c0452']\r\n",
      "Groups:\r\n",
      "['Propanoyl-CoA-PWY']\r\n",
      "\r\n",
      "Removed:\r\n",
      "Reactions:\r\n",
      "[]\r\n",
      "Metabolites:\r\n",
      "[]\r\n",
      "Exchange:\r\n",
      "[]\r\n",
      "Demand:\r\n",
      "[]\r\n",
      "Sinks:\r\n",
      "[]\r\n",
      "Genes:\r\n",
      "[]\r\n",
      "Groups:\r\n",
      "[]\r\n",
      "\r\n"
     ]
    }
   ],
   "source": [
    "%cat Propanoyl-CoA-PWY.txt"
   ]
  },
  {
   "cell_type": "code",
   "execution_count": 8,
   "id": "cdd260cc",
   "metadata": {
    "scrolled": true
   },
   "outputs": [
    {
     "name": "stdout",
     "output_type": "stream",
     "text": [
      "New:\r\n",
      "Reactions:\r\n",
      "['R12188_c', 'R12514_c', 'R04951_c', 'R10553_c', 'R10617_c', 'R09591_c', 'R09622_c', 'R10301_c', 'R12539_c', 'R11156_c', 'R11157_c', 'R04789_c', 'R01628_c', 'R02193_c', 'R00931_c']\r\n",
      "Metabolites:\r\n",
      "['C02882_c', 'C00001_c', 'C00145_c', 'C00014_c', 'C00022_c', 'C05729_c', 'C00037_c', 'C05726_c', 'C05727_c', 'C00033_c', 'C20732_c', 'C19702_c', 'C00097_c', 'C00002_c', 'C19703_c', 'C00020_c', 'C00013_c', 'C00024_c', 'C06717_c', 'C00010_c', 'C18235_c', 'C00003_c', 'C00058_c', 'C00004_c', 'C00080_c', 'C22238_c', 'C00061_c', 'C21147_c', 'C00007_c', 'C21148_c', 'C00005_c', 'C00006_c', 'C05416_c', 'C05417_c', 'C00587_c', 'C00230_c', 'C02666_c', 'C00406_c', 'C02225_c', 'C00100_c', 'C00036_c']\r\n",
      "Exchange:\r\n",
      "[]\r\n",
      "Demand:\r\n",
      "[]\r\n",
      "Sinks:\r\n",
      "['SK_C00145_c', 'SK_C00014_c', 'SK_C00022_c', 'SK_C02882_c', 'SK_C00001_c', 'SK_C00037_c', 'SK_C05729_c', 'SK_C05726_c', 'SK_C00033_c', 'SK_C05727_c', 'SK_C19702_c', 'SK_C20732_c', 'SK_C19703_c', 'SK_C00020_c', 'SK_C00013_c', 'SK_C00097_c', 'SK_C00002_c', 'SK_C06717_c', 'SK_C00010_c', 'SK_C00024_c', 'SK_C00058_c', 'SK_C00004_c', 'SK_C00080_c', 'SK_C18235_c', 'SK_C00003_c', 'SK_C00061_c', 'SK_C22238_c', 'SK_C21148_c', 'SK_C21147_c', 'SK_C00007_c', 'SK_C00006_c', 'SK_C00005_c', 'SK_C05417_c', 'SK_C05416_c', 'SK_C00230_c', 'SK_C00587_c', 'SK_C00406_c', 'SK_C02666_c', 'SK_C00100_c', 'SK_C00036_c', 'SK_C02225_c']\r\n",
      "Genes:\r\n",
      "['c3742', 'c3407', 'c1175', 'c2014', 'c0452']\r\n",
      "Groups:\r\n",
      "['Propanoyl-CoA-PWY']\r\n",
      "\r\n",
      "Removed:\r\n",
      "Reactions:\r\n",
      "[]\r\n",
      "Metabolites:\r\n",
      "[]\r\n",
      "Exchange:\r\n",
      "[]\r\n",
      "Demand:\r\n",
      "[]\r\n",
      "Sinks:\r\n",
      "[]\r\n",
      "Genes:\r\n",
      "[]\r\n",
      "Groups:\r\n",
      "[]\r\n",
      "\r\n"
     ]
    }
   ],
   "source": [
    "!tail summary_shiyan.txt -n 32"
   ]
  },
  {
   "cell_type": "code",
   "execution_count": 9,
   "id": "5ce11dfa",
   "metadata": {},
   "outputs": [
    {
     "data": {
      "text/plain": [
       "{'EX_co2_e': 1000.0,\n",
       " 'EX_cobalt2_e': 1000.0,\n",
       " 'EX_glc__D_e': 10.0,\n",
       " 'EX_h_e': 1000.0,\n",
       " 'EX_h2o_e': 1000.0,\n",
       " 'EX_k_e': 1000.0,\n",
       " 'EX_cu2_e': 1000.0,\n",
       " 'EX_mg2_e': 1000.0,\n",
       " 'EX_mn2_e': 1000.0,\n",
       " 'EX_mobd_e': 1000.0,\n",
       " 'EX_na1_e': 1000.0,\n",
       " 'EX_nh4_e': 1000.0,\n",
       " 'EX_ca2_e': 1000.0,\n",
       " 'EX_cbl1_e': 0.01,\n",
       " 'EX_ni2_e': 1000.0,\n",
       " 'EX_o2_e': 1000.0,\n",
       " 'EX_cl_e': 1000.0,\n",
       " 'EX_pi_e': 1000.0,\n",
       " 'EX_zn2_e': 1000.0,\n",
       " 'EX_sel_e': 1000.0,\n",
       " 'EX_slnt_e': 1000.0,\n",
       " 'EX_so4_e': 1000.0,\n",
       " 'EX_tungs_e': 1000.0,\n",
       " 'EX_fe2_e': 1000.0,\n",
       " 'EX_fe3_e': 1000.0}"
      ]
     },
     "execution_count": 9,
     "metadata": {},
     "output_type": "execute_result"
    }
   ],
   "source": [
    "model.medium  # 模型中营养物质的吸收速率"
   ]
  },
  {
   "cell_type": "code",
   "execution_count": 10,
   "id": "67fe9147",
   "metadata": {},
   "outputs": [
    {
     "data": {
      "text/plain": [
       "{'EX_co2_e': 1000.0,\n",
       " 'EX_cobalt2_e': 1000.0,\n",
       " 'EX_glc__D_e': 20.0,\n",
       " 'EX_h_e': 1000.0,\n",
       " 'EX_h2o_e': 1000.0,\n",
       " 'EX_k_e': 1000.0,\n",
       " 'EX_cu2_e': 1000.0,\n",
       " 'EX_mg2_e': 1000.0,\n",
       " 'EX_mn2_e': 1000.0,\n",
       " 'EX_mobd_e': 1000.0,\n",
       " 'EX_na1_e': 1000.0,\n",
       " 'EX_nh4_e': 1000.0,\n",
       " 'EX_ca2_e': 1000.0,\n",
       " 'EX_cbl1_e': 0.01,\n",
       " 'EX_ni2_e': 1000.0,\n",
       " 'EX_o2_e': 20.0,\n",
       " 'EX_cl_e': 1000.0,\n",
       " 'EX_pi_e': 1000.0,\n",
       " 'EX_zn2_e': 1000.0,\n",
       " 'EX_sel_e': 1000.0,\n",
       " 'EX_slnt_e': 1000.0,\n",
       " 'EX_so4_e': 1000.0,\n",
       " 'EX_tungs_e': 1000.0,\n",
       " 'EX_fe2_e': 1000.0,\n",
       " 'EX_fe3_e': 1000.0}"
      ]
     },
     "execution_count": 10,
     "metadata": {},
     "output_type": "execute_result"
    }
   ],
   "source": [
    "medium = model.medium   # 对葡萄糖和氧气的吸收速率进行限定\n",
    "medium[\"EX_o2_e\"] = 20.0\n",
    "medium[\"EX_glc__D_e\"] = 20.0\n",
    "model.medium = medium\n",
    "\n",
    "model.medium"
   ]
  },
  {
   "cell_type": "code",
   "execution_count": 13,
   "id": "40663950",
   "metadata": {},
   "outputs": [
    {
     "name": "stdout",
     "output_type": "stream",
     "text": [
      "Objective: Maximize\n",
      "1.0*BIOMASS_Ec_iJO1366_core_53p95M - 1.0*BIOMASS_Ec_iJO1366_core_53p95M_reverse_5c8b1, Objective_value: 1.4552377643238465\n"
     ]
    },
    {
     "data": {
      "text/html": [
       "<strong><em>Optimal</em> solution with objective value 1.455</strong><br><div>\n",
       "<style scoped>\n",
       "    .dataframe tbody tr th:only-of-type {\n",
       "        vertical-align: middle;\n",
       "    }\n",
       "\n",
       "    .dataframe tbody tr th {\n",
       "        vertical-align: top;\n",
       "    }\n",
       "\n",
       "    .dataframe thead th {\n",
       "        text-align: right;\n",
       "    }\n",
       "</style>\n",
       "<table border=\"1\" class=\"dataframe\">\n",
       "  <thead>\n",
       "    <tr style=\"text-align: right;\">\n",
       "      <th></th>\n",
       "      <th>fluxes</th>\n",
       "      <th>reduced_costs</th>\n",
       "    </tr>\n",
       "  </thead>\n",
       "  <tbody>\n",
       "    <tr>\n",
       "      <th>R12188_c</th>\n",
       "      <td>0.000000</td>\n",
       "      <td>0.000000</td>\n",
       "    </tr>\n",
       "    <tr>\n",
       "      <th>R12514_c</th>\n",
       "      <td>0.000000</td>\n",
       "      <td>0.000000</td>\n",
       "    </tr>\n",
       "    <tr>\n",
       "      <th>R04951_c</th>\n",
       "      <td>0.000000</td>\n",
       "      <td>0.000000</td>\n",
       "    </tr>\n",
       "    <tr>\n",
       "      <th>R10553_c</th>\n",
       "      <td>1000.000000</td>\n",
       "      <td>1000.000000</td>\n",
       "    </tr>\n",
       "    <tr>\n",
       "      <th>R10617_c</th>\n",
       "      <td>1000.000000</td>\n",
       "      <td>1000.000000</td>\n",
       "    </tr>\n",
       "    <tr>\n",
       "      <th>...</th>\n",
       "      <td>...</td>\n",
       "      <td>...</td>\n",
       "    </tr>\n",
       "    <tr>\n",
       "      <th>R11157_c</th>\n",
       "      <td>-333.333333</td>\n",
       "      <td>-333.333333</td>\n",
       "    </tr>\n",
       "    <tr>\n",
       "      <th>R04789_c</th>\n",
       "      <td>0.000000</td>\n",
       "      <td>0.000000</td>\n",
       "    </tr>\n",
       "    <tr>\n",
       "      <th>R01628_c</th>\n",
       "      <td>1000.000000</td>\n",
       "      <td>1000.000000</td>\n",
       "    </tr>\n",
       "    <tr>\n",
       "      <th>R02193_c</th>\n",
       "      <td>666.666667</td>\n",
       "      <td>666.666667</td>\n",
       "    </tr>\n",
       "    <tr>\n",
       "      <th>R00931_c</th>\n",
       "      <td>1000.000000</td>\n",
       "      <td>1000.000000</td>\n",
       "    </tr>\n",
       "  </tbody>\n",
       "</table>\n",
       "<p>15 rows × 2 columns</p>\n",
       "</div>"
      ],
      "text/plain": [
       "<Solution 1.455 at 0x7fa97a5beb50>"
      ]
     },
     "execution_count": 13,
     "metadata": {},
     "output_type": "execute_result"
    }
   ],
   "source": [
    "solution = model.optimize()\n",
    "print(f'Objective: {model.objective}, Objective_value: {solution.objective_value}')\n",
    "model.groups.get_by_id(\"Propanoyl-CoA-PWY\").solution(solution)"
   ]
  },
  {
   "cell_type": "code",
   "execution_count": 14,
   "id": "203908ae",
   "metadata": {},
   "outputs": [
    {
     "data": {
      "application/vnd.jupyter.widget-view+json": {
       "model_id": "e31185046eb4489ca22c83bfc31a5856",
       "version_major": 2,
       "version_minor": 0
      },
      "text/plain": [
       "Builder(never_ask_before_quit=True, reaction_data={'EX_cm_e': 0.0, 'EX_cmp_e': 0.0, 'EX_co2_e': 16.21657251306…"
      ]
     },
     "metadata": {},
     "output_type": "display_data"
    }
   ],
   "source": [
    "model.groups.get_by_id(\"Propanoyl-CoA-PWY\").color_quantile = True\n",
    "model.groups.get_by_id(\"Propanoyl-CoA-PWY\").color_negative = \"red\"\n",
    "model.groups.get_by_id(\"Propanoyl-CoA-PWY\").color_positive = \"green\"\n",
    "model.groups.get_by_id(\"Propanoyl-CoA-PWY\").visualize(solution_fluxes=solution, filename = \"Propanoyl-CoA-PWY.html\")"
   ]
  },
  {
   "cell_type": "code",
   "execution_count": 11,
   "id": "428443ca",
   "metadata": {},
   "outputs": [
    {
     "data": {
      "text/html": [
       "\n",
       "<table> <tbody> <tr> <td><strong>Pathway identifier</strong></td>\n",
       "<td>Propanoyl-CoA-PWY</td> </tr> <tr> <td><strong>Name</strong></td>\n",
       "<td></td> </tr> <tr> <td><strong>Memory address</strong></td>\n",
       "<td>0x0139749961453136</td> </tr> <tr> <td><strong>Reactions involved</strong></td>\n",
       "<td> <p>R12188_c, R12514_c, R04951_c, R10553_c, R10617_c, R09591_c, R09622_c, R10301_c, R12539_c, R11156_c, R11157_c, R04789_c, R01628_c, R02193_c, R00931_c</p> </td> </tr> <tr>\n",
       "<td><strong>Genes involved<br /></strong></td> <td> <p>c3407, c2014, c3742, c1175, c0452</p> </td> </tr> <tr>\n",
       "<td><strong>Visualization attributes</strong></td> <td> <ul> <li>vertical =\n",
       "False</li> <li>color_negative = red</li>\n",
       "<li>color_positive = green</li> <li>color_quantile =\n",
       "True</li> </ul> </td> </tr> </tbody> </table> <p>&nbsp;</p>\n"
      ],
      "text/plain": [
       "<Pathway Propanoyl-CoA-PWY at 0x7f1a12cf4e50>"
      ]
     },
     "execution_count": 11,
     "metadata": {},
     "output_type": "execute_result"
    }
   ],
   "source": [
    "model.groups.get_by_id(\"Propanoyl-CoA-PWY\")"
   ]
  },
  {
   "cell_type": "code",
   "execution_count": 15,
   "id": "99cb5b23",
   "metadata": {
    "scrolled": false
   },
   "outputs": [
    {
     "data": {
      "text/html": [
       "\n",
       "<table> <tbody> <tr> <td><strong>Pathway identifier</strong></td>\n",
       "<td>Propanoyl-CoA-PWY</td> </tr> <tr> <td><strong>Name</strong></td>\n",
       "<td></td> </tr> <tr> <td><strong>Memory address</strong></td>\n",
       "<td>0x0140372214266384</td> </tr> <tr> <td><strong>Reactions involved</strong></td>\n",
       "<td> <p>R12188_c, R12514_c, R04951_c, R10553_c, R10617_c, R09591_c, R09622_c, R10301_c, R12539_c, R11156_c, R11157_c, R04789_c, R01628_c, R02193_c, R00931_c</p> </td> </tr> <tr>\n",
       "<td><strong>Genes involved<br /></strong></td> <td> <p>c3742, c3407, c2014, c1175, c0452</p> </td> </tr> <tr>\n",
       "<td><strong>Visualization attributes</strong></td> <td> <ul> <li>vertical =\n",
       "False</li> <li>color_negative = red</li>\n",
       "<li>color_positive = green</li> <li>color_quantile =\n",
       "True</li> </ul> </td> </tr> </tbody> </table> <p>&nbsp;</p>\n"
      ],
      "text/plain": [
       "<Pathway Propanoyl-CoA-PWY at 0x7faaf3f7ba10>"
      ]
     },
     "metadata": {},
     "output_type": "display_data"
    },
    {
     "name": "stdout",
     "output_type": "stream",
     "text": [
      "R12188_c: C00001_c + C02882_c <=> C00014_c + C00022_c + C00145_c\n",
      "R12514_c: C00001_c + C05729_c <=> C00037_c + C02882_c\n",
      "R04951_c: C00001_c + C05729_c <=> C00037_c + C05726_c\n",
      "R10553_c: C00001_c + C05727_c <=> C00033_c + C05726_c\n",
      "R10617_c: C00001_c + C20732_c <=> C05727_c + C19702_c\n",
      "R09591_c: C00002_c + C00097_c + C19702_c <=> C00013_c + C00020_c + C19703_c\n",
      "R09622_c: C00024_c + C19703_c <=> C00010_c + C06717_c\n",
      "R10301_c: C00001_c + C00003_c + C18235_c <=> C00004_c + C00058_c + C00080_c + C06717_c\n",
      "R12539_c: C00004_c + C22238_c <=> C00001_c + C00003_c + C00061_c + C00080_c\n",
      "R11156_c: C00004_c + C00007_c + C00080_c + C21147_c <=> C00001_c + C00003_c + C21148_c\n",
      "R11157_c: C00005_c + C00007_c + C00080_c + C21147_c <=> C00001_c + C00006_c + C21148_c\n",
      "R04789_c: C00005_c + C00007_c + C00080_c + C05416_c <=> C00001_c + C00006_c + C05417_c\n",
      "R01628_c: C00005_c + C00007_c + C00080_c + C00587_c <=> C00001_c + C00006_c + C00230_c\n",
      "R02193_c: C00006_c + C00010_c + C02666_c <=> C00005_c + C00080_c + C00406_c\n",
      "R00931_c: C00010_c + C02225_c <=> C00001_c + C00036_c + C00100_c\n"
     ]
    }
   ],
   "source": [
    "display(model.groups.get_by_id(\"Propanoyl-CoA-PWY\"))\n",
    "reactions = model.groups.get_by_id(\"Propanoyl-CoA-PWY\").members\n",
    "for reaction in reactions:\n",
    "     print(reaction)"
   ]
  },
  {
   "cell_type": "code",
   "execution_count": 16,
   "id": "77e7e857",
   "metadata": {},
   "outputs": [
    {
     "data": {
      "text/html": [
       "<h3>Objective</h3><p>1.0 BIOMASS_Ec_iJO1366_core_53p95M = 1.4552377643238492</p><h4>Uptake</h4><table border=\"1\" class=\"dataframe\">\n",
       "  <thead>\n",
       "    <tr style=\"text-align: right;\">\n",
       "      <th>Metabolite</th>\n",
       "      <th>Reaction</th>\n",
       "      <th>Flux</th>\n",
       "      <th>C-Number</th>\n",
       "      <th>C-Flux</th>\n",
       "    </tr>\n",
       "  </thead>\n",
       "  <tbody>\n",
       "    <tr>\n",
       "      <td>ca2_e</td>\n",
       "      <td>EX_ca2_e</td>\n",
       "      <td>0.007575</td>\n",
       "      <td>0</td>\n",
       "      <td>0.00%</td>\n",
       "    </tr>\n",
       "    <tr>\n",
       "      <td>cl_e</td>\n",
       "      <td>EX_cl_e</td>\n",
       "      <td>0.007575</td>\n",
       "      <td>0</td>\n",
       "      <td>0.00%</td>\n",
       "    </tr>\n",
       "    <tr>\n",
       "      <td>cobalt2_e</td>\n",
       "      <td>EX_cobalt2_e</td>\n",
       "      <td>3.638E-05</td>\n",
       "      <td>0</td>\n",
       "      <td>0.00%</td>\n",
       "    </tr>\n",
       "    <tr>\n",
       "      <td>cu2_e</td>\n",
       "      <td>EX_cu2_e</td>\n",
       "      <td>0.001032</td>\n",
       "      <td>0</td>\n",
       "      <td>0.00%</td>\n",
       "    </tr>\n",
       "    <tr>\n",
       "      <td>fe2_e</td>\n",
       "      <td>EX_fe2_e</td>\n",
       "      <td>0.01201</td>\n",
       "      <td>0</td>\n",
       "      <td>0.00%</td>\n",
       "    </tr>\n",
       "    <tr>\n",
       "      <td>fe3_e</td>\n",
       "      <td>EX_fe3_e</td>\n",
       "      <td>0.01136</td>\n",
       "      <td>0</td>\n",
       "      <td>0.00%</td>\n",
       "    </tr>\n",
       "    <tr>\n",
       "      <td>glc__D_e</td>\n",
       "      <td>EX_glc__D_e</td>\n",
       "      <td>20</td>\n",
       "      <td>6</td>\n",
       "      <td>100.00%</td>\n",
       "    </tr>\n",
       "    <tr>\n",
       "      <td>k_e</td>\n",
       "      <td>EX_k_e</td>\n",
       "      <td>0.2841</td>\n",
       "      <td>0</td>\n",
       "      <td>0.00%</td>\n",
       "    </tr>\n",
       "    <tr>\n",
       "      <td>mg2_e</td>\n",
       "      <td>EX_mg2_e</td>\n",
       "      <td>0.01262</td>\n",
       "      <td>0</td>\n",
       "      <td>0.00%</td>\n",
       "    </tr>\n",
       "    <tr>\n",
       "      <td>mn2_e</td>\n",
       "      <td>EX_mn2_e</td>\n",
       "      <td>0.001006</td>\n",
       "      <td>0</td>\n",
       "      <td>0.00%</td>\n",
       "    </tr>\n",
       "    <tr>\n",
       "      <td>mobd_e</td>\n",
       "      <td>EX_mobd_e</td>\n",
       "      <td>0.0001877</td>\n",
       "      <td>0</td>\n",
       "      <td>0.00%</td>\n",
       "    </tr>\n",
       "    <tr>\n",
       "      <td>nh4_e</td>\n",
       "      <td>EX_nh4_e</td>\n",
       "      <td>15.72</td>\n",
       "      <td>0</td>\n",
       "      <td>0.00%</td>\n",
       "    </tr>\n",
       "    <tr>\n",
       "      <td>ni2_e</td>\n",
       "      <td>EX_ni2_e</td>\n",
       "      <td>0.00047</td>\n",
       "      <td>0</td>\n",
       "      <td>0.00%</td>\n",
       "    </tr>\n",
       "    <tr>\n",
       "      <td>o2_e</td>\n",
       "      <td>EX_o2_e</td>\n",
       "      <td>20</td>\n",
       "      <td>0</td>\n",
       "      <td>0.00%</td>\n",
       "    </tr>\n",
       "    <tr>\n",
       "      <td>pi_e</td>\n",
       "      <td>EX_pi_e</td>\n",
       "      <td>1.404</td>\n",
       "      <td>0</td>\n",
       "      <td>0.00%</td>\n",
       "    </tr>\n",
       "    <tr>\n",
       "      <td>so4_e</td>\n",
       "      <td>EX_so4_e</td>\n",
       "      <td>0.367</td>\n",
       "      <td>0</td>\n",
       "      <td>0.00%</td>\n",
       "    </tr>\n",
       "    <tr>\n",
       "      <td>zn2_e</td>\n",
       "      <td>EX_zn2_e</td>\n",
       "      <td>0.0004962</td>\n",
       "      <td>0</td>\n",
       "      <td>0.00%</td>\n",
       "    </tr>\n",
       "  </tbody>\n",
       "</table><h4>Secretion</h4><table border=\"1\" class=\"dataframe\">\n",
       "  <thead>\n",
       "    <tr style=\"text-align: right;\">\n",
       "      <th>Metabolite</th>\n",
       "      <th>Reaction</th>\n",
       "      <th>Flux</th>\n",
       "      <th>C-Number</th>\n",
       "      <th>C-Flux</th>\n",
       "    </tr>\n",
       "  </thead>\n",
       "  <tbody>\n",
       "    <tr>\n",
       "      <td>4crsol_c</td>\n",
       "      <td>DM_4crsol_c</td>\n",
       "      <td>-0.0003245</td>\n",
       "      <td>7</td>\n",
       "      <td>0.00%</td>\n",
       "    </tr>\n",
       "    <tr>\n",
       "      <td>5drib_c</td>\n",
       "      <td>DM_5drib_c</td>\n",
       "      <td>-0.0003274</td>\n",
       "      <td>5</td>\n",
       "      <td>0.00%</td>\n",
       "    </tr>\n",
       "    <tr>\n",
       "      <td>amob_c</td>\n",
       "      <td>DM_amob_c</td>\n",
       "      <td>-2.91E-06</td>\n",
       "      <td>15</td>\n",
       "      <td>0.00%</td>\n",
       "    </tr>\n",
       "    <tr>\n",
       "      <td>mththf_c</td>\n",
       "      <td>DM_mththf_c</td>\n",
       "      <td>-0.0006519</td>\n",
       "      <td>5</td>\n",
       "      <td>0.01%</td>\n",
       "    </tr>\n",
       "    <tr>\n",
       "      <td>ac_e</td>\n",
       "      <td>EX_ac_e</td>\n",
       "      <td>-15.13</td>\n",
       "      <td>2</td>\n",
       "      <td>50.21%</td>\n",
       "    </tr>\n",
       "    <tr>\n",
       "      <td>co2_e</td>\n",
       "      <td>EX_co2_e</td>\n",
       "      <td>-16.22</td>\n",
       "      <td>1</td>\n",
       "      <td>26.91%</td>\n",
       "    </tr>\n",
       "    <tr>\n",
       "      <td>for_e</td>\n",
       "      <td>EX_for_e</td>\n",
       "      <td>-13.78</td>\n",
       "      <td>1</td>\n",
       "      <td>22.87%</td>\n",
       "    </tr>\n",
       "    <tr>\n",
       "      <td>glyclt_e</td>\n",
       "      <td>EX_glyclt_e</td>\n",
       "      <td>-0.0009736</td>\n",
       "      <td>2</td>\n",
       "      <td>0.00%</td>\n",
       "    </tr>\n",
       "    <tr>\n",
       "      <td>h2o_e</td>\n",
       "      <td>EX_h2o_e</td>\n",
       "      <td>-54.64</td>\n",
       "      <td>0</td>\n",
       "      <td>0.00%</td>\n",
       "    </tr>\n",
       "    <tr>\n",
       "      <td>h_e</td>\n",
       "      <td>EX_h_e</td>\n",
       "      <td>-42.3</td>\n",
       "      <td>0</td>\n",
       "      <td>0.00%</td>\n",
       "    </tr>\n",
       "    <tr>\n",
       "      <td>meoh_e</td>\n",
       "      <td>EX_meoh_e</td>\n",
       "      <td>-2.91E-06</td>\n",
       "      <td>1</td>\n",
       "      <td>0.00%</td>\n",
       "    </tr>\n",
       "  </tbody>\n",
       "</table>"
      ],
      "text/plain": [
       "<cobra.summary.model_summary.ModelSummary at 0x7faaf02eed90>"
      ]
     },
     "execution_count": 16,
     "metadata": {},
     "output_type": "execute_result"
    }
   ],
   "source": [
    "model.summary()"
   ]
  },
  {
   "cell_type": "code",
   "execution_count": 17,
   "id": "f9575d53",
   "metadata": {},
   "outputs": [],
   "source": [
    "from cobra.flux_analysis import production_envelope\n",
    "demand = model.add_boundary(model.metabolites.C00100_c, type=\"demand\")\n",
    "prod_env = production_envelope(model, [\"EX_glc__D_e\", \"EX_o2_e\"], objective=demand, carbon_sources=\"EX_glc__D_e\")"
   ]
  },
  {
   "cell_type": "code",
   "execution_count": 19,
   "id": "6cb56ba5",
   "metadata": {},
   "outputs": [
    {
     "data": {
      "text/html": [
       "<div>\n",
       "<style scoped>\n",
       "    .dataframe tbody tr th:only-of-type {\n",
       "        vertical-align: middle;\n",
       "    }\n",
       "\n",
       "    .dataframe tbody tr th {\n",
       "        vertical-align: top;\n",
       "    }\n",
       "\n",
       "    .dataframe thead th {\n",
       "        text-align: right;\n",
       "    }\n",
       "</style>\n",
       "<table border=\"1\" class=\"dataframe\">\n",
       "  <thead>\n",
       "    <tr style=\"text-align: right;\">\n",
       "      <th></th>\n",
       "      <th>carbon_source</th>\n",
       "      <th>flux_minimum</th>\n",
       "      <th>carbon_yield_minimum</th>\n",
       "      <th>mass_yield_minimum</th>\n",
       "      <th>flux_maximum</th>\n",
       "      <th>carbon_yield_maximum</th>\n",
       "      <th>mass_yield_maximum</th>\n",
       "      <th>EX_glc__D_e</th>\n",
       "      <th>EX_o2_e</th>\n",
       "    </tr>\n",
       "  </thead>\n",
       "  <tbody>\n",
       "    <tr>\n",
       "      <th>0</th>\n",
       "      <td>EX_glc__D_e</td>\n",
       "      <td>0.0</td>\n",
       "      <td>0.0</td>\n",
       "      <td>0.0</td>\n",
       "      <td>1000.0</td>\n",
       "      <td>200.000000</td>\n",
       "      <td>228.579101</td>\n",
       "      <td>-20.000000</td>\n",
       "      <td>-20.000000</td>\n",
       "    </tr>\n",
       "    <tr>\n",
       "      <th>1</th>\n",
       "      <td>EX_glc__D_e</td>\n",
       "      <td>0.0</td>\n",
       "      <td>0.0</td>\n",
       "      <td>0.0</td>\n",
       "      <td>1000.0</td>\n",
       "      <td>200.000000</td>\n",
       "      <td>228.579101</td>\n",
       "      <td>-20.000000</td>\n",
       "      <td>-18.947368</td>\n",
       "    </tr>\n",
       "    <tr>\n",
       "      <th>2</th>\n",
       "      <td>EX_glc__D_e</td>\n",
       "      <td>0.0</td>\n",
       "      <td>0.0</td>\n",
       "      <td>0.0</td>\n",
       "      <td>1000.0</td>\n",
       "      <td>200.000000</td>\n",
       "      <td>228.579101</td>\n",
       "      <td>-20.000000</td>\n",
       "      <td>-17.894737</td>\n",
       "    </tr>\n",
       "    <tr>\n",
       "      <th>3</th>\n",
       "      <td>EX_glc__D_e</td>\n",
       "      <td>0.0</td>\n",
       "      <td>0.0</td>\n",
       "      <td>0.0</td>\n",
       "      <td>1000.0</td>\n",
       "      <td>200.000000</td>\n",
       "      <td>228.579101</td>\n",
       "      <td>-20.000000</td>\n",
       "      <td>-16.842105</td>\n",
       "    </tr>\n",
       "    <tr>\n",
       "      <th>4</th>\n",
       "      <td>EX_glc__D_e</td>\n",
       "      <td>0.0</td>\n",
       "      <td>0.0</td>\n",
       "      <td>0.0</td>\n",
       "      <td>1000.0</td>\n",
       "      <td>200.000000</td>\n",
       "      <td>228.579101</td>\n",
       "      <td>-20.000000</td>\n",
       "      <td>-15.789474</td>\n",
       "    </tr>\n",
       "    <tr>\n",
       "      <th>...</th>\n",
       "      <td>...</td>\n",
       "      <td>...</td>\n",
       "      <td>...</td>\n",
       "      <td>...</td>\n",
       "      <td>...</td>\n",
       "      <td>...</td>\n",
       "      <td>...</td>\n",
       "      <td>...</td>\n",
       "      <td>...</td>\n",
       "    </tr>\n",
       "    <tr>\n",
       "      <th>395</th>\n",
       "      <td>EX_glc__D_e</td>\n",
       "      <td>0.0</td>\n",
       "      <td>0.0</td>\n",
       "      <td>0.0</td>\n",
       "      <td>1000.0</td>\n",
       "      <td>29841.269841</td>\n",
       "      <td>34105.453215</td>\n",
       "      <td>-0.134043</td>\n",
       "      <td>-4.210526</td>\n",
       "    </tr>\n",
       "    <tr>\n",
       "      <th>396</th>\n",
       "      <td>EX_glc__D_e</td>\n",
       "      <td>0.0</td>\n",
       "      <td>0.0</td>\n",
       "      <td>0.0</td>\n",
       "      <td>1000.0</td>\n",
       "      <td>29841.269841</td>\n",
       "      <td>34105.453215</td>\n",
       "      <td>-0.134043</td>\n",
       "      <td>-3.157895</td>\n",
       "    </tr>\n",
       "    <tr>\n",
       "      <th>397</th>\n",
       "      <td>EX_glc__D_e</td>\n",
       "      <td>0.0</td>\n",
       "      <td>0.0</td>\n",
       "      <td>0.0</td>\n",
       "      <td>1000.0</td>\n",
       "      <td>29841.269841</td>\n",
       "      <td>34105.453215</td>\n",
       "      <td>-0.134043</td>\n",
       "      <td>-2.105263</td>\n",
       "    </tr>\n",
       "    <tr>\n",
       "      <th>398</th>\n",
       "      <td>EX_glc__D_e</td>\n",
       "      <td>0.0</td>\n",
       "      <td>0.0</td>\n",
       "      <td>0.0</td>\n",
       "      <td>1000.0</td>\n",
       "      <td>29841.269841</td>\n",
       "      <td>34105.453215</td>\n",
       "      <td>-0.134043</td>\n",
       "      <td>-1.052632</td>\n",
       "    </tr>\n",
       "    <tr>\n",
       "      <th>399</th>\n",
       "      <td>EX_glc__D_e</td>\n",
       "      <td>NaN</td>\n",
       "      <td>NaN</td>\n",
       "      <td>NaN</td>\n",
       "      <td>NaN</td>\n",
       "      <td>NaN</td>\n",
       "      <td>NaN</td>\n",
       "      <td>-0.134043</td>\n",
       "      <td>0.000000</td>\n",
       "    </tr>\n",
       "  </tbody>\n",
       "</table>\n",
       "<p>400 rows × 9 columns</p>\n",
       "</div>"
      ],
      "text/plain": [
       "    carbon_source  flux_minimum  carbon_yield_minimum  mass_yield_minimum  \\\n",
       "0     EX_glc__D_e           0.0                   0.0                 0.0   \n",
       "1     EX_glc__D_e           0.0                   0.0                 0.0   \n",
       "2     EX_glc__D_e           0.0                   0.0                 0.0   \n",
       "3     EX_glc__D_e           0.0                   0.0                 0.0   \n",
       "4     EX_glc__D_e           0.0                   0.0                 0.0   \n",
       "..            ...           ...                   ...                 ...   \n",
       "395   EX_glc__D_e           0.0                   0.0                 0.0   \n",
       "396   EX_glc__D_e           0.0                   0.0                 0.0   \n",
       "397   EX_glc__D_e           0.0                   0.0                 0.0   \n",
       "398   EX_glc__D_e           0.0                   0.0                 0.0   \n",
       "399   EX_glc__D_e           NaN                   NaN                 NaN   \n",
       "\n",
       "     flux_maximum  carbon_yield_maximum  mass_yield_maximum  EX_glc__D_e  \\\n",
       "0          1000.0            200.000000          228.579101   -20.000000   \n",
       "1          1000.0            200.000000          228.579101   -20.000000   \n",
       "2          1000.0            200.000000          228.579101   -20.000000   \n",
       "3          1000.0            200.000000          228.579101   -20.000000   \n",
       "4          1000.0            200.000000          228.579101   -20.000000   \n",
       "..            ...                   ...                 ...          ...   \n",
       "395        1000.0          29841.269841        34105.453215    -0.134043   \n",
       "396        1000.0          29841.269841        34105.453215    -0.134043   \n",
       "397        1000.0          29841.269841        34105.453215    -0.134043   \n",
       "398        1000.0          29841.269841        34105.453215    -0.134043   \n",
       "399           NaN                   NaN                 NaN    -0.134043   \n",
       "\n",
       "       EX_o2_e  \n",
       "0   -20.000000  \n",
       "1   -18.947368  \n",
       "2   -17.894737  \n",
       "3   -16.842105  \n",
       "4   -15.789474  \n",
       "..         ...  \n",
       "395  -4.210526  \n",
       "396  -3.157895  \n",
       "397  -2.105263  \n",
       "398  -1.052632  \n",
       "399   0.000000  \n",
       "\n",
       "[400 rows x 9 columns]"
      ]
     },
     "execution_count": 19,
     "metadata": {},
     "output_type": "execute_result"
    }
   ],
   "source": [
    "prod_env"
   ]
  },
  {
   "cell_type": "code",
   "execution_count": 23,
   "id": "584de015",
   "metadata": {},
   "outputs": [
    {
     "data": {
      "text/plain": [
       "228.5791013315802"
      ]
     },
     "execution_count": 23,
     "metadata": {},
     "output_type": "execute_result"
    }
   ],
   "source": [
    "prod_env.loc[0, 'mass_yield_maximum']"
   ]
  }
 ],
 "metadata": {
  "kernelspec": {
   "display_name": "Python 3 (ipykernel)",
   "language": "python",
   "name": "python3"
  },
  "language_info": {
   "codemirror_mode": {
    "name": "ipython",
    "version": 3
   },
   "file_extension": ".py",
   "mimetype": "text/x-python",
   "name": "python",
   "nbconvert_exporter": "python",
   "pygments_lexer": "ipython3",
   "version": "3.7.4"
  }
 },
 "nbformat": 4,
 "nbformat_minor": 5
}
